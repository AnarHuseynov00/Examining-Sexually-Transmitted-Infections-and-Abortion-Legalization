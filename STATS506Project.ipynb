{
 "cells": [
  {
   "cell_type": "code",
   "execution_count": 2,
   "id": "0a80cac9",
   "metadata": {},
   "outputs": [],
   "source": [
    "library(tidyverse)"
   ]
  },
  {
   "cell_type": "code",
   "execution_count": 3,
   "id": "c81a7e25",
   "metadata": {},
   "outputs": [
    {
     "name": "stderr",
     "output_type": "stream",
     "text": [
      "\n",
      "Attaching package: 'data.table'\n",
      "\n",
      "\n",
      "The following objects are masked from 'package:dplyr':\n",
      "\n",
      "    between, first, last\n",
      "\n",
      "\n",
      "The following object is masked from 'package:purrr':\n",
      "\n",
      "    transpose\n",
      "\n",
      "\n"
     ]
    }
   ],
   "source": [
    "library(data.table)"
   ]
  },
  {
   "cell_type": "code",
   "execution_count": 38,
   "id": "981fcdd7",
   "metadata": {},
   "outputs": [
    {
     "name": "stderr",
     "output_type": "stream",
     "text": [
      "New names:\n",
      "* `` -> ...1\n",
      "\n",
      "\u001b[1m\u001b[1mRows: \u001b[1m\u001b[22m\u001b[34m\u001b[34m19584\u001b[34m\u001b[39m \u001b[1m\u001b[1mColumns: \u001b[1m\u001b[22m\u001b[34m\u001b[34m22\u001b[34m\u001b[39m\n",
      "\n",
      "\u001b[36m--\u001b[39m \u001b[1m\u001b[1mColumn specification\u001b[1m\u001b[22m \u001b[36m------------------------------------------------------------------------------------------------\u001b[39m\n",
      "\u001b[1mDelimiter:\u001b[22m \",\"\n",
      "\u001b[32mdbl\u001b[39m (22): ...1, fip, age, race, year, sex, totpop, ir, crack, alcohol, incom...\n",
      "\n",
      "\n",
      "\u001b[36mi\u001b[39m Use \u001b[30m\u001b[47m\u001b[30m\u001b[47m`spec()`\u001b[47m\u001b[30m\u001b[49m\u001b[39m to retrieve the full column specification for this data.\n",
      "\u001b[36mi\u001b[39m Specify the column types or set \u001b[30m\u001b[47m\u001b[30m\u001b[47m`show_col_types = FALSE`\u001b[47m\u001b[30m\u001b[49m\u001b[39m to quiet this message.\n",
      "\n"
     ]
    }
   ],
   "source": [
    "df = read_delim(\"abortion.csv\", delim = \",\")\n",
    "df = as.data.table(df)"
   ]
  },
  {
   "cell_type": "code",
   "execution_count": 39,
   "id": "d476846e",
   "metadata": {},
   "outputs": [],
   "source": [
    "df = df[!is.na(lnr) & !is.na(totpop),,]"
   ]
  },
  {
   "cell_type": "code",
   "execution_count": 40,
   "id": "a11f7244",
   "metadata": {},
   "outputs": [],
   "source": [
    "df[is.na(df)] <- 0"
   ]
  },
  {
   "cell_type": "code",
   "execution_count": 41,
   "id": "3af51ebe",
   "metadata": {},
   "outputs": [
    {
     "data": {
      "text/html": [
       "<style>\n",
       ".list-inline {list-style: none; margin:0; padding: 0}\n",
       ".list-inline>li {display: inline-block}\n",
       ".list-inline>li:not(:last-child)::after {content: \"\\00b7\"; padding: 0 .5ex}\n",
       "</style>\n",
       "<ol class=list-inline><li>17921</li><li>22</li></ol>\n"
      ],
      "text/latex": [
       "\\begin{enumerate*}\n",
       "\\item 17921\n",
       "\\item 22\n",
       "\\end{enumerate*}\n"
      ],
      "text/markdown": [
       "1. 17921\n",
       "2. 22\n",
       "\n",
       "\n"
      ],
      "text/plain": [
       "[1] 17921    22"
      ]
     },
     "metadata": {},
     "output_type": "display_data"
    }
   ],
   "source": [
    "dim(df)"
   ]
  },
  {
   "cell_type": "code",
   "execution_count": 8,
   "id": "c9721c92",
   "metadata": {},
   "outputs": [
    {
     "name": "stdout",
     "output_type": "stream",
     "text": [
      "package 'randomForest' successfully unpacked and MD5 sums checked\n",
      "\n",
      "The downloaded binary packages are in\n",
      "\tC:\\Users\\Anar\\AppData\\Local\\Temp\\RtmpwV38NA\\downloaded_packages\n"
     ]
    },
    {
     "name": "stderr",
     "output_type": "stream",
     "text": [
      "Warning message:\n",
      "\"package 'randomForest' was built under R version 4.1.2\"\n",
      "randomForest 4.6-14\n",
      "\n",
      "Type rfNews() to see new features/changes/bug fixes.\n",
      "\n",
      "\n",
      "Attaching package: 'randomForest'\n",
      "\n",
      "\n",
      "The following object is masked from 'package:dplyr':\n",
      "\n",
      "    combine\n",
      "\n",
      "\n",
      "The following object is masked from 'package:ggplot2':\n",
      "\n",
      "    margin\n",
      "\n",
      "\n"
     ]
    }
   ],
   "source": [
    "install.packages(\"randomForest\")\n",
    "library(randomForest)"
   ]
  },
  {
   "cell_type": "code",
   "execution_count": 9,
   "id": "e7182e0e",
   "metadata": {},
   "outputs": [
    {
     "name": "stdout",
     "output_type": "stream",
     "text": [
      "package 'caTools' successfully unpacked and MD5 sums checked\n",
      "\n",
      "The downloaded binary packages are in\n",
      "\tC:\\Users\\Anar\\AppData\\Local\\Temp\\RtmpwV38NA\\downloaded_packages\n",
      "package 'Metrics' successfully unpacked and MD5 sums checked\n",
      "\n",
      "The downloaded binary packages are in\n",
      "\tC:\\Users\\Anar\\AppData\\Local\\Temp\\RtmpwV38NA\\downloaded_packages\n"
     ]
    }
   ],
   "source": [
    "install.packages(\"caTools\")\n",
    "install.packages(\"Metrics\")"
   ]
  },
  {
   "cell_type": "code",
   "execution_count": 10,
   "id": "965b60e6",
   "metadata": {},
   "outputs": [
    {
     "name": "stderr",
     "output_type": "stream",
     "text": [
      "Warning message:\n",
      "\"package 'caTools' was built under R version 4.1.2\"\n",
      "Warning message:\n",
      "\"package 'Metrics' was built under R version 4.1.2\"\n"
     ]
    }
   ],
   "source": [
    "library(caTools)\n",
    "library(Metrics)"
   ]
  },
  {
   "cell_type": "code",
   "execution_count": 12,
   "id": "8a9d5d7e",
   "metadata": {},
   "outputs": [
    {
     "data": {
      "text/html": [
       "<style>\n",
       ".list-inline {list-style: none; margin:0; padding: 0}\n",
       ".list-inline>li {display: inline-block}\n",
       ".list-inline>li:not(:last-child)::after {content: \"\\00b7\"; padding: 0 .5ex}\n",
       "</style>\n",
       "<ol class=list-inline><li>12544</li><li>22</li></ol>\n"
      ],
      "text/latex": [
       "\\begin{enumerate*}\n",
       "\\item 12544\n",
       "\\item 22\n",
       "\\end{enumerate*}\n"
      ],
      "text/markdown": [
       "1. 12544\n",
       "2. 22\n",
       "\n",
       "\n"
      ],
      "text/plain": [
       "[1] 12544    22"
      ]
     },
     "metadata": {},
     "output_type": "display_data"
    },
    {
     "data": {
      "text/html": [
       "<style>\n",
       ".list-inline {list-style: none; margin:0; padding: 0}\n",
       ".list-inline>li {display: inline-block}\n",
       ".list-inline>li:not(:last-child)::after {content: \"\\00b7\"; padding: 0 .5ex}\n",
       "</style>\n",
       "<ol class=list-inline><li>5377</li><li>22</li></ol>\n"
      ],
      "text/latex": [
       "\\begin{enumerate*}\n",
       "\\item 5377\n",
       "\\item 22\n",
       "\\end{enumerate*}\n"
      ],
      "text/markdown": [
       "1. 5377\n",
       "2. 22\n",
       "\n",
       "\n"
      ],
      "text/plain": [
       "[1] 5377   22"
      ]
     },
     "metadata": {},
     "output_type": "display_data"
    }
   ],
   "source": [
    "set.seed(1)\n",
    "sample = sample.split(df$lnr, SplitRatio = .70)\n",
    "train = subset(df, sample == TRUE)\n",
    "test  = subset(df, sample == FALSE)\n",
    "dim(train)\n",
    "dim(test)"
   ]
  },
  {
   "cell_type": "code",
   "execution_count": 13,
   "id": "e4cab658",
   "metadata": {},
   "outputs": [],
   "source": [
    "train = train[,.(age, race, sex, totpop, lnr, ir, crack, alcohol, income, poverty, ur, repeal, acc, younger, pi, bf15),]"
   ]
  },
  {
   "cell_type": "code",
   "execution_count": 14,
   "id": "1888d9d2",
   "metadata": {},
   "outputs": [],
   "source": [
    "test = test[,.(age, race, sex, totpop, lnr, ir, crack, alcohol, income, poverty, ur, repeal, acc, younger, pi, bf15),]"
   ]
  },
  {
   "cell_type": "code",
   "execution_count": 15,
   "id": "14d5f3c4",
   "metadata": {},
   "outputs": [],
   "source": [
    "model = randomForest(lnr ~., data = train, mtry = 3,\n",
    "                         importance = TRUE, na.action = na.omit)"
   ]
  },
  {
   "cell_type": "code",
   "execution_count": 16,
   "id": "597811b6",
   "metadata": {},
   "outputs": [],
   "source": [
    "ans = predict(model, test[,.(age, race, sex, totpop, ir, crack, alcohol, income, poverty, ur, repeal, acc, younger, pi, bf15),])"
   ]
  },
  {
   "cell_type": "code",
   "execution_count": 17,
   "id": "688c5670",
   "metadata": {},
   "outputs": [
    {
     "name": "stdout",
     "output_type": "stream",
     "text": [
      "         [,1]\n",
      "lnr 0.9518969\n"
     ]
    }
   ],
   "source": [
    "print(cor(test[,.(lnr),],ans)^2) #R^2 score"
   ]
  },
  {
   "cell_type": "code",
   "execution_count": 18,
   "id": "b2ed172a",
   "metadata": {},
   "outputs": [
    {
     "name": "stdout",
     "output_type": "stream",
     "text": [
      "[1] 0.4746191\n"
     ]
    }
   ],
   "source": [
    "print(rmse(ans, test[,.(lnr),]$lnr)) #rmse"
   ]
  },
  {
   "cell_type": "code",
   "execution_count": 19,
   "id": "e8b15390",
   "metadata": {},
   "outputs": [
    {
     "data": {
      "image/png": "[encoded data removed]",
      "text/plain": [
       "plot without title"
      ]
     },
     "metadata": {
      "image/png": {
       "height": 420,
       "width": 420
      }
     },
     "output_type": "display_data"
    }
   ],
   "source": [
    "plot(ans, test[,.(lnr),]$lnr)"
   ]
  },
  {
   "cell_type": "markdown",
   "id": "99390232",
   "metadata": {},
   "source": [
    "## LNR (Logged gonnorhea cases per 100,000 in 15-19 year olds) analysis"
   ]
  },
  {
   "cell_type": "code",
   "execution_count": 43,
   "id": "aa426a5a",
   "metadata": {},
   "outputs": [
    {
     "data": {
      "text/html": [
       "<table class=\"dataframe\">\n",
       "<caption>A data.table: 17921 × 22</caption>\n",
       "<thead>\n",
       "\t<tr><th scope=col>...1</th><th scope=col>fip</th><th scope=col>age</th><th scope=col>race</th><th scope=col>year</th><th scope=col>sex</th><th scope=col>totpop</th><th scope=col>ir</th><th scope=col>crack</th><th scope=col>alcohol</th><th scope=col>⋯</th><th scope=col>poverty</th><th scope=col>repeal</th><th scope=col>acc</th><th scope=col>wht</th><th scope=col>male</th><th scope=col>lnr</th><th scope=col>younger</th><th scope=col>fa</th><th scope=col>pi</th><th scope=col>bf15</th></tr>\n",
       "\t<tr><th scope=col>&lt;dbl&gt;</th><th scope=col>&lt;dbl&gt;</th><th scope=col>&lt;dbl&gt;</th><th scope=col>&lt;dbl&gt;</th><th scope=col>&lt;dbl&gt;</th><th scope=col>&lt;dbl&gt;</th><th scope=col>&lt;dbl&gt;</th><th scope=col>&lt;dbl&gt;</th><th scope=col>&lt;dbl&gt;</th><th scope=col>&lt;dbl&gt;</th><th scope=col>⋯</th><th scope=col>&lt;dbl&gt;</th><th scope=col>&lt;dbl&gt;</th><th scope=col>&lt;dbl&gt;</th><th scope=col>&lt;dbl&gt;</th><th scope=col>&lt;dbl&gt;</th><th scope=col>&lt;dbl&gt;</th><th scope=col>&lt;dbl&gt;</th><th scope=col>&lt;dbl&gt;</th><th scope=col>&lt;dbl&gt;</th><th scope=col>&lt;dbl&gt;</th></tr>\n",
       "</thead>\n",
       "<tbody>\n",
       "\t<tr><td> 1</td><td>1</td><td>30</td><td>2</td><td>1985</td><td>1</td><td> 78805</td><td>371.47580</td><td>0.2174378</td><td>1.9</td><td>⋯</td><td>20.6</td><td>0</td><td>0.6795045</td><td>0</td><td>1</td><td>7.880880</td><td>0</td><td>0</td><td>0</td><td>0</td></tr>\n",
       "\t<tr><td> 2</td><td>1</td><td>15</td><td>1</td><td>1985</td><td>2</td><td>224003</td><td> 51.38925</td><td>0.2174378</td><td>1.9</td><td>⋯</td><td>20.6</td><td>0</td><td>0.6795045</td><td>1</td><td>0</td><td>6.362165</td><td>1</td><td>1</td><td>0</td><td>0</td></tr>\n",
       "\t<tr><td> 3</td><td>1</td><td>20</td><td>2</td><td>1985</td><td>2</td><td> 94113</td><td>390.87567</td><td>0.2174378</td><td>1.9</td><td>⋯</td><td>20.6</td><td>0</td><td>0.6795045</td><td>0</td><td>0</td><td>8.917793</td><td>0</td><td>0</td><td>0</td><td>0</td></tr>\n",
       "\t<tr><td> 4</td><td>1</td><td>20</td><td>1</td><td>1985</td><td>1</td><td>252076</td><td>100.83680</td><td>0.2174378</td><td>1.9</td><td>⋯</td><td>20.6</td><td>0</td><td>0.6795045</td><td>1</td><td>1</td><td>5.906995</td><td>0</td><td>0</td><td>0</td><td>0</td></tr>\n",
       "\t<tr><td> 5</td><td>1</td><td>20</td><td>2</td><td>1985</td><td>1</td><td> 94113</td><td>390.87567</td><td>0.2174378</td><td>1.9</td><td>⋯</td><td>20.6</td><td>0</td><td>0.6795045</td><td>0</td><td>1</td><td>9.072009</td><td>0</td><td>0</td><td>0</td><td>0</td></tr>\n",
       "\t<tr><td> 6</td><td>1</td><td>40</td><td>2</td><td>1985</td><td>1</td><td> 48527</td><td>199.46300</td><td>0.2174378</td><td>1.9</td><td>⋯</td><td>20.6</td><td>0</td><td>0.6795045</td><td>0</td><td>1</td><td>6.344056</td><td>0</td><td>0</td><td>0</td><td>0</td></tr>\n",
       "\t<tr><td> 7</td><td>1</td><td>35</td><td>2</td><td>1985</td><td>2</td><td> 68459</td><td>243.25624</td><td>0.2174378</td><td>1.9</td><td>⋯</td><td>20.6</td><td>0</td><td>0.6795045</td><td>0</td><td>0</td><td>6.135781</td><td>0</td><td>0</td><td>0</td><td>0</td></tr>\n",
       "\t<tr><td> 8</td><td>1</td><td>40</td><td>1</td><td>1985</td><td>2</td><td>177798</td><td> 70.06068</td><td>0.2174378</td><td>1.9</td><td>⋯</td><td>20.6</td><td>0</td><td>0.6795045</td><td>1</td><td>0</td><td>2.740840</td><td>0</td><td>0</td><td>0</td><td>0</td></tr>\n",
       "\t<tr><td> 9</td><td>1</td><td>20</td><td>1</td><td>1985</td><td>2</td><td>252076</td><td>100.83680</td><td>0.2174378</td><td>1.9</td><td>⋯</td><td>20.6</td><td>0</td><td>0.6795045</td><td>1</td><td>0</td><td>6.480964</td><td>0</td><td>0</td><td>0</td><td>0</td></tr>\n",
       "\t<tr><td>10</td><td>1</td><td>35</td><td>1</td><td>1985</td><td>2</td><td>203621</td><td> 74.87242</td><td>0.2174378</td><td>1.9</td><td>⋯</td><td>20.6</td><td>0</td><td>0.6795045</td><td>1</td><td>0</td><td>3.691376</td><td>0</td><td>0</td><td>0</td><td>0</td></tr>\n",
       "\t<tr><td>11</td><td>1</td><td>35</td><td>2</td><td>1985</td><td>1</td><td> 68459</td><td>243.25624</td><td>0.2174378</td><td>1.9</td><td>⋯</td><td>20.6</td><td>0</td><td>0.6795045</td><td>0</td><td>1</td><td>7.156411</td><td>0</td><td>0</td><td>0</td><td>0</td></tr>\n",
       "\t<tr><td>12</td><td>1</td><td>30</td><td>2</td><td>1985</td><td>2</td><td> 78805</td><td>371.47580</td><td>0.2174378</td><td>1.9</td><td>⋯</td><td>20.6</td><td>0</td><td>0.6795045</td><td>0</td><td>0</td><td>7.148503</td><td>0</td><td>0</td><td>0</td><td>0</td></tr>\n",
       "\t<tr><td>13</td><td>1</td><td>40</td><td>2</td><td>1985</td><td>2</td><td> 48527</td><td>199.46300</td><td>0.2174378</td><td>1.9</td><td>⋯</td><td>20.6</td><td>0</td><td>0.6795045</td><td>0</td><td>0</td><td>5.515443</td><td>0</td><td>0</td><td>0</td><td>0</td></tr>\n",
       "\t<tr><td>14</td><td>1</td><td>25</td><td>2</td><td>1985</td><td>1</td><td> 84353</td><td>513.94031</td><td>0.2174378</td><td>1.9</td><td>⋯</td><td>20.6</td><td>0</td><td>0.6795045</td><td>0</td><td>1</td><td>8.645217</td><td>0</td><td>2</td><td>0</td><td>0</td></tr>\n",
       "\t<tr><td>15</td><td>1</td><td>15</td><td>1</td><td>1985</td><td>1</td><td>224003</td><td> 51.38925</td><td>0.2174378</td><td>1.9</td><td>⋯</td><td>20.6</td><td>0</td><td>0.6795045</td><td>1</td><td>1</td><td>5.277094</td><td>1</td><td>1</td><td>0</td><td>0</td></tr>\n",
       "\t<tr><td>16</td><td>1</td><td>25</td><td>1</td><td>1985</td><td>2</td><td>246472</td><td> 95.24011</td><td>0.2174378</td><td>1.9</td><td>⋯</td><td>20.6</td><td>0</td><td>0.6795045</td><td>1</td><td>0</td><td>5.544787</td><td>0</td><td>2</td><td>0</td><td>0</td></tr>\n",
       "\t<tr><td>17</td><td>1</td><td>40</td><td>1</td><td>1985</td><td>1</td><td>177798</td><td> 70.06068</td><td>0.2174378</td><td>1.9</td><td>⋯</td><td>20.6</td><td>0</td><td>0.6795045</td><td>1</td><td>1</td><td>3.465736</td><td>0</td><td>0</td><td>0</td><td>0</td></tr>\n",
       "\t<tr><td>18</td><td>1</td><td>25</td><td>2</td><td>1985</td><td>2</td><td> 84353</td><td>513.94031</td><td>0.2174378</td><td>1.9</td><td>⋯</td><td>20.6</td><td>0</td><td>0.6795045</td><td>0</td><td>0</td><td>8.268040</td><td>0</td><td>2</td><td>0</td><td>0</td></tr>\n",
       "\t<tr><td>19</td><td>1</td><td>25</td><td>1</td><td>1985</td><td>1</td><td>246472</td><td> 95.24011</td><td>0.2174378</td><td>1.9</td><td>⋯</td><td>20.6</td><td>0</td><td>0.6795045</td><td>1</td><td>1</td><td>5.467216</td><td>0</td><td>2</td><td>0</td><td>0</td></tr>\n",
       "\t<tr><td>20</td><td>1</td><td>15</td><td>2</td><td>1985</td><td>2</td><td>106187</td><td>100.62804</td><td>0.2174378</td><td>1.9</td><td>⋯</td><td>20.6</td><td>0</td><td>0.6795045</td><td>0</td><td>0</td><td>8.783779</td><td>1</td><td>1</td><td>0</td><td>1</td></tr>\n",
       "\t<tr><td>21</td><td>1</td><td>30</td><td>1</td><td>1985</td><td>2</td><td>227226</td><td>102.52824</td><td>0.2174378</td><td>1.9</td><td>⋯</td><td>20.6</td><td>0</td><td>0.6795045</td><td>1</td><td>0</td><td>4.604170</td><td>0</td><td>0</td><td>0</td><td>0</td></tr>\n",
       "\t<tr><td>22</td><td>1</td><td>35</td><td>1</td><td>1985</td><td>1</td><td>203621</td><td> 74.87242</td><td>0.2174378</td><td>1.9</td><td>⋯</td><td>20.6</td><td>0</td><td>0.6795045</td><td>1</td><td>1</td><td>4.144721</td><td>0</td><td>0</td><td>0</td><td>0</td></tr>\n",
       "\t<tr><td>23</td><td>1</td><td>15</td><td>2</td><td>1985</td><td>1</td><td>106187</td><td>100.62804</td><td>0.2174378</td><td>1.9</td><td>⋯</td><td>20.6</td><td>0</td><td>0.6795045</td><td>0</td><td>1</td><td>8.331682</td><td>1</td><td>1</td><td>0</td><td>0</td></tr>\n",
       "\t<tr><td>24</td><td>1</td><td>30</td><td>1</td><td>1985</td><td>1</td><td>227226</td><td>102.52824</td><td>0.2174378</td><td>1.9</td><td>⋯</td><td>20.6</td><td>0</td><td>0.6795045</td><td>1</td><td>1</td><td>4.560173</td><td>0</td><td>0</td><td>0</td><td>0</td></tr>\n",
       "\t<tr><td>25</td><td>1</td><td>20</td><td>2</td><td>1986</td><td>2</td><td> 91469</td><td>412.25961</td><td>0.2768753</td><td>1.9</td><td>⋯</td><td>23.8</td><td>0</td><td>1.5311961</td><td>0</td><td>0</td><td>8.873902</td><td>0</td><td>0</td><td>0</td><td>0</td></tr>\n",
       "\t<tr><td>26</td><td>1</td><td>40</td><td>1</td><td>1986</td><td>1</td><td>180098</td><td> 80.09454</td><td>0.2768753</td><td>1.9</td><td>⋯</td><td>23.8</td><td>0</td><td>1.5311961</td><td>1</td><td>1</td><td>3.377588</td><td>0</td><td>0</td><td>0</td><td>0</td></tr>\n",
       "\t<tr><td>27</td><td>1</td><td>15</td><td>2</td><td>1986</td><td>1</td><td>106831</td><td>111.85746</td><td>0.2768753</td><td>1.9</td><td>⋯</td><td>23.8</td><td>0</td><td>1.5311961</td><td>0</td><td>1</td><td>8.196685</td><td>1</td><td>1</td><td>0</td><td>0</td></tr>\n",
       "\t<tr><td>28</td><td>1</td><td>25</td><td>2</td><td>1986</td><td>2</td><td> 84593</td><td>549.59875</td><td>0.2768753</td><td>1.9</td><td>⋯</td><td>23.8</td><td>0</td><td>1.5311961</td><td>0</td><td>0</td><td>8.039061</td><td>0</td><td>2</td><td>0</td><td>0</td></tr>\n",
       "\t<tr><td>29</td><td>1</td><td>35</td><td>1</td><td>1986</td><td>1</td><td>214073</td><td> 83.59454</td><td>0.2768753</td><td>1.9</td><td>⋯</td><td>23.8</td><td>0</td><td>1.5311961</td><td>1</td><td>1</td><td>3.763523</td><td>0</td><td>0</td><td>0</td><td>0</td></tr>\n",
       "\t<tr><td>30</td><td>1</td><td>35</td><td>1</td><td>1986</td><td>2</td><td>214073</td><td> 83.59454</td><td>0.2768753</td><td>1.9</td><td>⋯</td><td>23.8</td><td>0</td><td>1.5311961</td><td>1</td><td>0</td><td>3.616309</td><td>0</td><td>0</td><td>0</td><td>0</td></tr>\n",
       "\t<tr><td>⋮</td><td>⋮</td><td>⋮</td><td>⋮</td><td>⋮</td><td>⋮</td><td>⋮</td><td>⋮</td><td>⋮</td><td>⋮</td><td>⋱</td><td>⋮</td><td>⋮</td><td>⋮</td><td>⋮</td><td>⋮</td><td>⋮</td><td>⋮</td><td>⋮</td><td>⋮</td><td>⋮</td></tr>\n",
       "\t<tr><td>19519</td><td>56</td><td>25</td><td>1</td><td>1998</td><td>1</td><td>25377</td><td> 426.5659</td><td>-0.8698689</td><td>2.40</td><td>⋯</td><td>10.6</td><td>0</td><td>5.333803</td><td>1</td><td>1</td><td>2.028148</td><td>0</td><td>102</td><td>0</td><td>0</td></tr>\n",
       "\t<tr><td>19520</td><td>56</td><td>25</td><td>2</td><td>1998</td><td>2</td><td>  341</td><td>2133.3335</td><td>-0.8698689</td><td>2.40</td><td>⋯</td><td>10.6</td><td>0</td><td>5.333803</td><td>0</td><td>0</td><td>6.660959</td><td>0</td><td>102</td><td>0</td><td>0</td></tr>\n",
       "\t<tr><td>19522</td><td>56</td><td>15</td><td>1</td><td>1998</td><td>1</td><td>37863</td><td> 189.1877</td><td>-0.8698689</td><td>2.40</td><td>⋯</td><td>10.6</td><td>0</td><td>5.333803</td><td>1</td><td>1</td><td>1.629241</td><td>1</td><td>101</td><td>1</td><td>0</td></tr>\n",
       "\t<tr><td>19524</td><td>56</td><td>30</td><td>1</td><td>1998</td><td>2</td><td>26918</td><td> 282.9755</td><td>-0.8698689</td><td>2.40</td><td>⋯</td><td>10.6</td><td>0</td><td>5.333803</td><td>1</td><td>0</td><td>2.714695</td><td>0</td><td>  0</td><td>0</td><td>0</td></tr>\n",
       "\t<tr><td>19525</td><td>56</td><td>15</td><td>2</td><td>1998</td><td>1</td><td>  408</td><td>3038.7598</td><td>-0.8698689</td><td>2.40</td><td>⋯</td><td>10.6</td><td>0</td><td>5.333803</td><td>0</td><td>1</td><td>6.015669</td><td>1</td><td>101</td><td>1</td><td>0</td></tr>\n",
       "\t<tr><td>19527</td><td>56</td><td>20</td><td>1</td><td>1998</td><td>1</td><td>29091</td><td> 481.4924</td><td>-0.8698689</td><td>2.40</td><td>⋯</td><td>10.6</td><td>0</td><td>5.333803</td><td>1</td><td>1</td><td>2.580217</td><td>0</td><td>  0</td><td>0</td><td>0</td></tr>\n",
       "\t<tr><td>19531</td><td>56</td><td>20</td><td>2</td><td>1998</td><td>1</td><td>  497</td><td>2371.5415</td><td>-0.8698689</td><td>2.40</td><td>⋯</td><td>10.6</td><td>0</td><td>5.333803</td><td>0</td><td>1</td><td>5.660875</td><td>0</td><td>  0</td><td>0</td><td>0</td></tr>\n",
       "\t<tr><td>19533</td><td>56</td><td>30</td><td>2</td><td>1998</td><td>2</td><td>  244</td><td>2649.0066</td><td>-0.8698689</td><td>2.40</td><td>⋯</td><td>10.6</td><td>0</td><td>5.333803</td><td>0</td><td>0</td><td>6.917805</td><td>0</td><td>  0</td><td>0</td><td>0</td></tr>\n",
       "\t<tr><td>19535</td><td>56</td><td>25</td><td>1</td><td>1998</td><td>2</td><td>25377</td><td> 426.5659</td><td>-0.8698689</td><td>2.40</td><td>⋯</td><td>10.6</td><td>0</td><td>5.333803</td><td>1</td><td>0</td><td>2.104134</td><td>0</td><td>102</td><td>0</td><td>0</td></tr>\n",
       "\t<tr><td>19537</td><td>56</td><td>15</td><td>1</td><td>1999</td><td>2</td><td>37432</td><td> 192.4926</td><td>-0.4207321</td><td>2.43</td><td>⋯</td><td>11.6</td><td>0</td><td>2.654275</td><td>1</td><td>0</td><td>3.325036</td><td>1</td><td>101</td><td>1</td><td>0</td></tr>\n",
       "\t<tr><td>19543</td><td>56</td><td>20</td><td>2</td><td>1999</td><td>1</td><td>  465</td><td>2667.9841</td><td>-0.4207321</td><td>2.43</td><td>⋯</td><td>11.6</td><td>0</td><td>2.654275</td><td>0</td><td>1</td><td>5.776413</td><td>0</td><td>  0</td><td>0</td><td>0</td></tr>\n",
       "\t<tr><td>19551</td><td>56</td><td>15</td><td>1</td><td>1999</td><td>1</td><td>37432</td><td> 192.4926</td><td>-0.4207321</td><td>2.43</td><td>⋯</td><td>11.6</td><td>0</td><td>2.654275</td><td>1</td><td>1</td><td>2.332144</td><td>1</td><td>101</td><td>1</td><td>0</td></tr>\n",
       "\t<tr><td>19553</td><td>56</td><td>20</td><td>1</td><td>1999</td><td>1</td><td>28879</td><td> 498.5172</td><td>-0.4207321</td><td>2.43</td><td>⋯</td><td>11.6</td><td>0</td><td>2.654275</td><td>1</td><td>1</td><td>3.288402</td><td>0</td><td>  0</td><td>0</td><td>0</td></tr>\n",
       "\t<tr><td>19555</td><td>56</td><td>25</td><td>1</td><td>1999</td><td>2</td><td>25850</td><td> 448.3460</td><td>-0.4207321</td><td>2.43</td><td>⋯</td><td>11.6</td><td>0</td><td>2.654275</td><td>1</td><td>0</td><td>2.772589</td><td>0</td><td>102</td><td>0</td><td>0</td></tr>\n",
       "\t<tr><td>19556</td><td>56</td><td>30</td><td>1</td><td>1999</td><td>1</td><td>26091</td><td> 314.9176</td><td>-0.4207321</td><td>2.43</td><td>⋯</td><td>11.6</td><td>0</td><td>2.654275</td><td>1</td><td>1</td><td>2.714695</td><td>0</td><td>  0</td><td>0</td><td>0</td></tr>\n",
       "\t<tr><td>19558</td><td>56</td><td>20</td><td>1</td><td>1999</td><td>2</td><td>28879</td><td> 498.5172</td><td>-0.4207321</td><td>2.43</td><td>⋯</td><td>11.6</td><td>0</td><td>2.654275</td><td>1</td><td>0</td><td>3.761200</td><td>0</td><td>  0</td><td>0</td><td>0</td></tr>\n",
       "\t<tr><td>19562</td><td>56</td><td>15</td><td>2</td><td>2000</td><td>1</td><td>  420</td><td>3798.4497</td><td> 0.1136283</td><td>2.46</td><td>⋯</td><td>10.8</td><td>0</td><td>2.844398</td><td>0</td><td>1</td><td>6.028038</td><td>1</td><td>101</td><td>1</td><td>0</td></tr>\n",
       "\t<tr><td>19565</td><td>56</td><td>20</td><td>1</td><td>2000</td><td>1</td><td>29522</td><td> 515.5421</td><td> 0.1136283</td><td>2.46</td><td>⋯</td><td>10.8</td><td>0</td><td>2.844398</td><td>1</td><td>1</td><td>2.564949</td><td>0</td><td>  0</td><td>0</td><td>0</td></tr>\n",
       "\t<tr><td>19566</td><td>56</td><td>20</td><td>2</td><td>2000</td><td>1</td><td>  495</td><td>2964.4268</td><td> 0.1136283</td><td>2.46</td><td>⋯</td><td>10.8</td><td>0</td><td>2.844398</td><td>0</td><td>1</td><td>6.391917</td><td>0</td><td>  0</td><td>0</td><td>0</td></tr>\n",
       "\t<tr><td>19568</td><td>56</td><td>40</td><td>1</td><td>2000</td><td>1</td><td>38781</td><td> 129.3755</td><td> 0.1136283</td><td>2.46</td><td>⋯</td><td>10.8</td><td>0</td><td>2.844398</td><td>1</td><td>1</td><td>1.629241</td><td>0</td><td>  0</td><td>0</td><td>0</td></tr>\n",
       "\t<tr><td>19570</td><td>56</td><td>20</td><td>1</td><td>2000</td><td>2</td><td>29522</td><td> 515.5421</td><td> 0.1136283</td><td>2.46</td><td>⋯</td><td>10.8</td><td>0</td><td>2.844398</td><td>1</td><td>0</td><td>1.945910</td><td>0</td><td>  0</td><td>0</td><td>0</td></tr>\n",
       "\t<tr><td>19571</td><td>56</td><td>25</td><td>1</td><td>2000</td><td>1</td><td>26100</td><td> 470.1260</td><td> 0.1136283</td><td>2.46</td><td>⋯</td><td>10.8</td><td>0</td><td>2.844398</td><td>1</td><td>1</td><td>2.001480</td><td>0</td><td>102</td><td>0</td><td>0</td></tr>\n",
       "\t<tr><td>19573</td><td>56</td><td>30</td><td>1</td><td>2000</td><td>2</td><td>26371</td><td> 346.8596</td><td> 0.1136283</td><td>2.46</td><td>⋯</td><td>10.8</td><td>0</td><td>2.844398</td><td>1</td><td>0</td><td>2.734367</td><td>0</td><td>  0</td><td>0</td><td>0</td></tr>\n",
       "\t<tr><td>19575</td><td>56</td><td>20</td><td>2</td><td>2000</td><td>2</td><td>  495</td><td>2964.4268</td><td> 0.1136283</td><td>2.46</td><td>⋯</td><td>10.8</td><td>0</td><td>2.844398</td><td>0</td><td>0</td><td>6.437752</td><td>0</td><td>  0</td><td>0</td><td>0</td></tr>\n",
       "\t<tr><td>19577</td><td>56</td><td>15</td><td>2</td><td>2000</td><td>2</td><td>  420</td><td>3798.4497</td><td> 0.1136283</td><td>2.46</td><td>⋯</td><td>10.8</td><td>0</td><td>2.844398</td><td>0</td><td>0</td><td>6.325613</td><td>1</td><td>101</td><td>1</td><td>1</td></tr>\n",
       "\t<tr><td>19578</td><td>56</td><td>25</td><td>1</td><td>2000</td><td>2</td><td>26100</td><td> 470.1260</td><td> 0.1136283</td><td>2.46</td><td>⋯</td><td>10.8</td><td>0</td><td>2.844398</td><td>1</td><td>0</td><td>3.169686</td><td>0</td><td>102</td><td>0</td><td>0</td></tr>\n",
       "\t<tr><td>19579</td><td>56</td><td>15</td><td>1</td><td>2000</td><td>2</td><td>36639</td><td> 195.7975</td><td> 0.1136283</td><td>2.46</td><td>⋯</td><td>10.8</td><td>0</td><td>2.844398</td><td>1</td><td>0</td><td>3.681351</td><td>1</td><td>101</td><td>1</td><td>0</td></tr>\n",
       "\t<tr><td>19580</td><td>56</td><td>15</td><td>1</td><td>2000</td><td>1</td><td>36639</td><td> 195.7975</td><td> 0.1136283</td><td>2.46</td><td>⋯</td><td>10.8</td><td>0</td><td>2.844398</td><td>1</td><td>1</td><td>1.667707</td><td>1</td><td>101</td><td>1</td><td>0</td></tr>\n",
       "\t<tr><td>19582</td><td>56</td><td>30</td><td>1</td><td>2000</td><td>1</td><td>26371</td><td> 346.8596</td><td> 0.1136283</td><td>2.46</td><td>⋯</td><td>10.8</td><td>0</td><td>2.844398</td><td>1</td><td>1</td><td>2.701361</td><td>0</td><td>  0</td><td>0</td><td>0</td></tr>\n",
       "\t<tr><td>19583</td><td>56</td><td>35</td><td>1</td><td>2000</td><td>1</td><td>32562</td><td> 365.8763</td><td> 0.1136283</td><td>2.46</td><td>⋯</td><td>10.8</td><td>0</td><td>2.844398</td><td>1</td><td>1</td><td>3.214868</td><td>0</td><td>  0</td><td>0</td><td>0</td></tr>\n",
       "</tbody>\n",
       "</table>\n"
      ],
      "text/latex": [
       "A data.table: 17921 × 22\n",
       "\\begin{tabular}{lllllllllllllllllllll}\n",
       " ...1 & fip & age & race & year & sex & totpop & ir & crack & alcohol & ⋯ & poverty & repeal & acc & wht & male & lnr & younger & fa & pi & bf15\\\\\n",
       " <dbl> & <dbl> & <dbl> & <dbl> & <dbl> & <dbl> & <dbl> & <dbl> & <dbl> & <dbl> & ⋯ & <dbl> & <dbl> & <dbl> & <dbl> & <dbl> & <dbl> & <dbl> & <dbl> & <dbl> & <dbl>\\\\\n",
       "\\hline\n",
       "\t  1 & 1 & 30 & 2 & 1985 & 1 &  78805 & 371.47580 & 0.2174378 & 1.9 & ⋯ & 20.6 & 0 & 0.6795045 & 0 & 1 & 7.880880 & 0 & 0 & 0 & 0\\\\\n",
       "\t  2 & 1 & 15 & 1 & 1985 & 2 & 224003 &  51.38925 & 0.2174378 & 1.9 & ⋯ & 20.6 & 0 & 0.6795045 & 1 & 0 & 6.362165 & 1 & 1 & 0 & 0\\\\\n",
       "\t  3 & 1 & 20 & 2 & 1985 & 2 &  94113 & 390.87567 & 0.2174378 & 1.9 & ⋯ & 20.6 & 0 & 0.6795045 & 0 & 0 & 8.917793 & 0 & 0 & 0 & 0\\\\\n",
       "\t  4 & 1 & 20 & 1 & 1985 & 1 & 252076 & 100.83680 & 0.2174378 & 1.9 & ⋯ & 20.6 & 0 & 0.6795045 & 1 & 1 & 5.906995 & 0 & 0 & 0 & 0\\\\\n",
       "\t  5 & 1 & 20 & 2 & 1985 & 1 &  94113 & 390.87567 & 0.2174378 & 1.9 & ⋯ & 20.6 & 0 & 0.6795045 & 0 & 1 & 9.072009 & 0 & 0 & 0 & 0\\\\\n",
       "\t  6 & 1 & 40 & 2 & 1985 & 1 &  48527 & 199.46300 & 0.2174378 & 1.9 & ⋯ & 20.6 & 0 & 0.6795045 & 0 & 1 & 6.344056 & 0 & 0 & 0 & 0\\\\\n",
       "\t  7 & 1 & 35 & 2 & 1985 & 2 &  68459 & 243.25624 & 0.2174378 & 1.9 & ⋯ & 20.6 & 0 & 0.6795045 & 0 & 0 & 6.135781 & 0 & 0 & 0 & 0\\\\\n",
       "\t  8 & 1 & 40 & 1 & 1985 & 2 & 177798 &  70.06068 & 0.2174378 & 1.9 & ⋯ & 20.6 & 0 & 0.6795045 & 1 & 0 & 2.740840 & 0 & 0 & 0 & 0\\\\\n",
       "\t  9 & 1 & 20 & 1 & 1985 & 2 & 252076 & 100.83680 & 0.2174378 & 1.9 & ⋯ & 20.6 & 0 & 0.6795045 & 1 & 0 & 6.480964 & 0 & 0 & 0 & 0\\\\\n",
       "\t 10 & 1 & 35 & 1 & 1985 & 2 & 203621 &  74.87242 & 0.2174378 & 1.9 & ⋯ & 20.6 & 0 & 0.6795045 & 1 & 0 & 3.691376 & 0 & 0 & 0 & 0\\\\\n",
       "\t 11 & 1 & 35 & 2 & 1985 & 1 &  68459 & 243.25624 & 0.2174378 & 1.9 & ⋯ & 20.6 & 0 & 0.6795045 & 0 & 1 & 7.156411 & 0 & 0 & 0 & 0\\\\\n",
       "\t 12 & 1 & 30 & 2 & 1985 & 2 &  78805 & 371.47580 & 0.2174378 & 1.9 & ⋯ & 20.6 & 0 & 0.6795045 & 0 & 0 & 7.148503 & 0 & 0 & 0 & 0\\\\\n",
       "\t 13 & 1 & 40 & 2 & 1985 & 2 &  48527 & 199.46300 & 0.2174378 & 1.9 & ⋯ & 20.6 & 0 & 0.6795045 & 0 & 0 & 5.515443 & 0 & 0 & 0 & 0\\\\\n",
       "\t 14 & 1 & 25 & 2 & 1985 & 1 &  84353 & 513.94031 & 0.2174378 & 1.9 & ⋯ & 20.6 & 0 & 0.6795045 & 0 & 1 & 8.645217 & 0 & 2 & 0 & 0\\\\\n",
       "\t 15 & 1 & 15 & 1 & 1985 & 1 & 224003 &  51.38925 & 0.2174378 & 1.9 & ⋯ & 20.6 & 0 & 0.6795045 & 1 & 1 & 5.277094 & 1 & 1 & 0 & 0\\\\\n",
       "\t 16 & 1 & 25 & 1 & 1985 & 2 & 246472 &  95.24011 & 0.2174378 & 1.9 & ⋯ & 20.6 & 0 & 0.6795045 & 1 & 0 & 5.544787 & 0 & 2 & 0 & 0\\\\\n",
       "\t 17 & 1 & 40 & 1 & 1985 & 1 & 177798 &  70.06068 & 0.2174378 & 1.9 & ⋯ & 20.6 & 0 & 0.6795045 & 1 & 1 & 3.465736 & 0 & 0 & 0 & 0\\\\\n",
       "\t 18 & 1 & 25 & 2 & 1985 & 2 &  84353 & 513.94031 & 0.2174378 & 1.9 & ⋯ & 20.6 & 0 & 0.6795045 & 0 & 0 & 8.268040 & 0 & 2 & 0 & 0\\\\\n",
       "\t 19 & 1 & 25 & 1 & 1985 & 1 & 246472 &  95.24011 & 0.2174378 & 1.9 & ⋯ & 20.6 & 0 & 0.6795045 & 1 & 1 & 5.467216 & 0 & 2 & 0 & 0\\\\\n",
       "\t 20 & 1 & 15 & 2 & 1985 & 2 & 106187 & 100.62804 & 0.2174378 & 1.9 & ⋯ & 20.6 & 0 & 0.6795045 & 0 & 0 & 8.783779 & 1 & 1 & 0 & 1\\\\\n",
       "\t 21 & 1 & 30 & 1 & 1985 & 2 & 227226 & 102.52824 & 0.2174378 & 1.9 & ⋯ & 20.6 & 0 & 0.6795045 & 1 & 0 & 4.604170 & 0 & 0 & 0 & 0\\\\\n",
       "\t 22 & 1 & 35 & 1 & 1985 & 1 & 203621 &  74.87242 & 0.2174378 & 1.9 & ⋯ & 20.6 & 0 & 0.6795045 & 1 & 1 & 4.144721 & 0 & 0 & 0 & 0\\\\\n",
       "\t 23 & 1 & 15 & 2 & 1985 & 1 & 106187 & 100.62804 & 0.2174378 & 1.9 & ⋯ & 20.6 & 0 & 0.6795045 & 0 & 1 & 8.331682 & 1 & 1 & 0 & 0\\\\\n",
       "\t 24 & 1 & 30 & 1 & 1985 & 1 & 227226 & 102.52824 & 0.2174378 & 1.9 & ⋯ & 20.6 & 0 & 0.6795045 & 1 & 1 & 4.560173 & 0 & 0 & 0 & 0\\\\\n",
       "\t 25 & 1 & 20 & 2 & 1986 & 2 &  91469 & 412.25961 & 0.2768753 & 1.9 & ⋯ & 23.8 & 0 & 1.5311961 & 0 & 0 & 8.873902 & 0 & 0 & 0 & 0\\\\\n",
       "\t 26 & 1 & 40 & 1 & 1986 & 1 & 180098 &  80.09454 & 0.2768753 & 1.9 & ⋯ & 23.8 & 0 & 1.5311961 & 1 & 1 & 3.377588 & 0 & 0 & 0 & 0\\\\\n",
       "\t 27 & 1 & 15 & 2 & 1986 & 1 & 106831 & 111.85746 & 0.2768753 & 1.9 & ⋯ & 23.8 & 0 & 1.5311961 & 0 & 1 & 8.196685 & 1 & 1 & 0 & 0\\\\\n",
       "\t 28 & 1 & 25 & 2 & 1986 & 2 &  84593 & 549.59875 & 0.2768753 & 1.9 & ⋯ & 23.8 & 0 & 1.5311961 & 0 & 0 & 8.039061 & 0 & 2 & 0 & 0\\\\\n",
       "\t 29 & 1 & 35 & 1 & 1986 & 1 & 214073 &  83.59454 & 0.2768753 & 1.9 & ⋯ & 23.8 & 0 & 1.5311961 & 1 & 1 & 3.763523 & 0 & 0 & 0 & 0\\\\\n",
       "\t 30 & 1 & 35 & 1 & 1986 & 2 & 214073 &  83.59454 & 0.2768753 & 1.9 & ⋯ & 23.8 & 0 & 1.5311961 & 1 & 0 & 3.616309 & 0 & 0 & 0 & 0\\\\\n",
       "\t ⋮ & ⋮ & ⋮ & ⋮ & ⋮ & ⋮ & ⋮ & ⋮ & ⋮ & ⋮ & ⋱ & ⋮ & ⋮ & ⋮ & ⋮ & ⋮ & ⋮ & ⋮ & ⋮ & ⋮ & ⋮\\\\\n",
       "\t 19519 & 56 & 25 & 1 & 1998 & 1 & 25377 &  426.5659 & -0.8698689 & 2.40 & ⋯ & 10.6 & 0 & 5.333803 & 1 & 1 & 2.028148 & 0 & 102 & 0 & 0\\\\\n",
       "\t 19520 & 56 & 25 & 2 & 1998 & 2 &   341 & 2133.3335 & -0.8698689 & 2.40 & ⋯ & 10.6 & 0 & 5.333803 & 0 & 0 & 6.660959 & 0 & 102 & 0 & 0\\\\\n",
       "\t 19522 & 56 & 15 & 1 & 1998 & 1 & 37863 &  189.1877 & -0.8698689 & 2.40 & ⋯ & 10.6 & 0 & 5.333803 & 1 & 1 & 1.629241 & 1 & 101 & 1 & 0\\\\\n",
       "\t 19524 & 56 & 30 & 1 & 1998 & 2 & 26918 &  282.9755 & -0.8698689 & 2.40 & ⋯ & 10.6 & 0 & 5.333803 & 1 & 0 & 2.714695 & 0 &   0 & 0 & 0\\\\\n",
       "\t 19525 & 56 & 15 & 2 & 1998 & 1 &   408 & 3038.7598 & -0.8698689 & 2.40 & ⋯ & 10.6 & 0 & 5.333803 & 0 & 1 & 6.015669 & 1 & 101 & 1 & 0\\\\\n",
       "\t 19527 & 56 & 20 & 1 & 1998 & 1 & 29091 &  481.4924 & -0.8698689 & 2.40 & ⋯ & 10.6 & 0 & 5.333803 & 1 & 1 & 2.580217 & 0 &   0 & 0 & 0\\\\\n",
       "\t 19531 & 56 & 20 & 2 & 1998 & 1 &   497 & 2371.5415 & -0.8698689 & 2.40 & ⋯ & 10.6 & 0 & 5.333803 & 0 & 1 & 5.660875 & 0 &   0 & 0 & 0\\\\\n",
       "\t 19533 & 56 & 30 & 2 & 1998 & 2 &   244 & 2649.0066 & -0.8698689 & 2.40 & ⋯ & 10.6 & 0 & 5.333803 & 0 & 0 & 6.917805 & 0 &   0 & 0 & 0\\\\\n",
       "\t 19535 & 56 & 25 & 1 & 1998 & 2 & 25377 &  426.5659 & -0.8698689 & 2.40 & ⋯ & 10.6 & 0 & 5.333803 & 1 & 0 & 2.104134 & 0 & 102 & 0 & 0\\\\\n",
       "\t 19537 & 56 & 15 & 1 & 1999 & 2 & 37432 &  192.4926 & -0.4207321 & 2.43 & ⋯ & 11.6 & 0 & 2.654275 & 1 & 0 & 3.325036 & 1 & 101 & 1 & 0\\\\\n",
       "\t 19543 & 56 & 20 & 2 & 1999 & 1 &   465 & 2667.9841 & -0.4207321 & 2.43 & ⋯ & 11.6 & 0 & 2.654275 & 0 & 1 & 5.776413 & 0 &   0 & 0 & 0\\\\\n",
       "\t 19551 & 56 & 15 & 1 & 1999 & 1 & 37432 &  192.4926 & -0.4207321 & 2.43 & ⋯ & 11.6 & 0 & 2.654275 & 1 & 1 & 2.332144 & 1 & 101 & 1 & 0\\\\\n",
       "\t 19553 & 56 & 20 & 1 & 1999 & 1 & 28879 &  498.5172 & -0.4207321 & 2.43 & ⋯ & 11.6 & 0 & 2.654275 & 1 & 1 & 3.288402 & 0 &   0 & 0 & 0\\\\\n",
       "\t 19555 & 56 & 25 & 1 & 1999 & 2 & 25850 &  448.3460 & -0.4207321 & 2.43 & ⋯ & 11.6 & 0 & 2.654275 & 1 & 0 & 2.772589 & 0 & 102 & 0 & 0\\\\\n",
       "\t 19556 & 56 & 30 & 1 & 1999 & 1 & 26091 &  314.9176 & -0.4207321 & 2.43 & ⋯ & 11.6 & 0 & 2.654275 & 1 & 1 & 2.714695 & 0 &   0 & 0 & 0\\\\\n",
       "\t 19558 & 56 & 20 & 1 & 1999 & 2 & 28879 &  498.5172 & -0.4207321 & 2.43 & ⋯ & 11.6 & 0 & 2.654275 & 1 & 0 & 3.761200 & 0 &   0 & 0 & 0\\\\\n",
       "\t 19562 & 56 & 15 & 2 & 2000 & 1 &   420 & 3798.4497 &  0.1136283 & 2.46 & ⋯ & 10.8 & 0 & 2.844398 & 0 & 1 & 6.028038 & 1 & 101 & 1 & 0\\\\\n",
       "\t 19565 & 56 & 20 & 1 & 2000 & 1 & 29522 &  515.5421 &  0.1136283 & 2.46 & ⋯ & 10.8 & 0 & 2.844398 & 1 & 1 & 2.564949 & 0 &   0 & 0 & 0\\\\\n",
       "\t 19566 & 56 & 20 & 2 & 2000 & 1 &   495 & 2964.4268 &  0.1136283 & 2.46 & ⋯ & 10.8 & 0 & 2.844398 & 0 & 1 & 6.391917 & 0 &   0 & 0 & 0\\\\\n",
       "\t 19568 & 56 & 40 & 1 & 2000 & 1 & 38781 &  129.3755 &  0.1136283 & 2.46 & ⋯ & 10.8 & 0 & 2.844398 & 1 & 1 & 1.629241 & 0 &   0 & 0 & 0\\\\\n",
       "\t 19570 & 56 & 20 & 1 & 2000 & 2 & 29522 &  515.5421 &  0.1136283 & 2.46 & ⋯ & 10.8 & 0 & 2.844398 & 1 & 0 & 1.945910 & 0 &   0 & 0 & 0\\\\\n",
       "\t 19571 & 56 & 25 & 1 & 2000 & 1 & 26100 &  470.1260 &  0.1136283 & 2.46 & ⋯ & 10.8 & 0 & 2.844398 & 1 & 1 & 2.001480 & 0 & 102 & 0 & 0\\\\\n",
       "\t 19573 & 56 & 30 & 1 & 2000 & 2 & 26371 &  346.8596 &  0.1136283 & 2.46 & ⋯ & 10.8 & 0 & 2.844398 & 1 & 0 & 2.734367 & 0 &   0 & 0 & 0\\\\\n",
       "\t 19575 & 56 & 20 & 2 & 2000 & 2 &   495 & 2964.4268 &  0.1136283 & 2.46 & ⋯ & 10.8 & 0 & 2.844398 & 0 & 0 & 6.437752 & 0 &   0 & 0 & 0\\\\\n",
       "\t 19577 & 56 & 15 & 2 & 2000 & 2 &   420 & 3798.4497 &  0.1136283 & 2.46 & ⋯ & 10.8 & 0 & 2.844398 & 0 & 0 & 6.325613 & 1 & 101 & 1 & 1\\\\\n",
       "\t 19578 & 56 & 25 & 1 & 2000 & 2 & 26100 &  470.1260 &  0.1136283 & 2.46 & ⋯ & 10.8 & 0 & 2.844398 & 1 & 0 & 3.169686 & 0 & 102 & 0 & 0\\\\\n",
       "\t 19579 & 56 & 15 & 1 & 2000 & 2 & 36639 &  195.7975 &  0.1136283 & 2.46 & ⋯ & 10.8 & 0 & 2.844398 & 1 & 0 & 3.681351 & 1 & 101 & 1 & 0\\\\\n",
       "\t 19580 & 56 & 15 & 1 & 2000 & 1 & 36639 &  195.7975 &  0.1136283 & 2.46 & ⋯ & 10.8 & 0 & 2.844398 & 1 & 1 & 1.667707 & 1 & 101 & 1 & 0\\\\\n",
       "\t 19582 & 56 & 30 & 1 & 2000 & 1 & 26371 &  346.8596 &  0.1136283 & 2.46 & ⋯ & 10.8 & 0 & 2.844398 & 1 & 1 & 2.701361 & 0 &   0 & 0 & 0\\\\\n",
       "\t 19583 & 56 & 35 & 1 & 2000 & 1 & 32562 &  365.8763 &  0.1136283 & 2.46 & ⋯ & 10.8 & 0 & 2.844398 & 1 & 1 & 3.214868 & 0 &   0 & 0 & 0\\\\\n",
       "\\end{tabular}\n"
      ],
      "text/markdown": [
       "\n",
       "A data.table: 17921 × 22\n",
       "\n",
       "| ...1 &lt;dbl&gt; | fip &lt;dbl&gt; | age &lt;dbl&gt; | race &lt;dbl&gt; | year &lt;dbl&gt; | sex &lt;dbl&gt; | totpop &lt;dbl&gt; | ir &lt;dbl&gt; | crack &lt;dbl&gt; | alcohol &lt;dbl&gt; | ⋯ ⋯ | poverty &lt;dbl&gt; | repeal &lt;dbl&gt; | acc &lt;dbl&gt; | wht &lt;dbl&gt; | male &lt;dbl&gt; | lnr &lt;dbl&gt; | younger &lt;dbl&gt; | fa &lt;dbl&gt; | pi &lt;dbl&gt; | bf15 &lt;dbl&gt; |\n",
       "|---|---|---|---|---|---|---|---|---|---|---|---|---|---|---|---|---|---|---|---|---|\n",
       "|  1 | 1 | 30 | 2 | 1985 | 1 |  78805 | 371.47580 | 0.2174378 | 1.9 | ⋯ | 20.6 | 0 | 0.6795045 | 0 | 1 | 7.880880 | 0 | 0 | 0 | 0 |\n",
       "|  2 | 1 | 15 | 1 | 1985 | 2 | 224003 |  51.38925 | 0.2174378 | 1.9 | ⋯ | 20.6 | 0 | 0.6795045 | 1 | 0 | 6.362165 | 1 | 1 | 0 | 0 |\n",
       "|  3 | 1 | 20 | 2 | 1985 | 2 |  94113 | 390.87567 | 0.2174378 | 1.9 | ⋯ | 20.6 | 0 | 0.6795045 | 0 | 0 | 8.917793 | 0 | 0 | 0 | 0 |\n",
       "|  4 | 1 | 20 | 1 | 1985 | 1 | 252076 | 100.83680 | 0.2174378 | 1.9 | ⋯ | 20.6 | 0 | 0.6795045 | 1 | 1 | 5.906995 | 0 | 0 | 0 | 0 |\n",
       "|  5 | 1 | 20 | 2 | 1985 | 1 |  94113 | 390.87567 | 0.2174378 | 1.9 | ⋯ | 20.6 | 0 | 0.6795045 | 0 | 1 | 9.072009 | 0 | 0 | 0 | 0 |\n",
       "|  6 | 1 | 40 | 2 | 1985 | 1 |  48527 | 199.46300 | 0.2174378 | 1.9 | ⋯ | 20.6 | 0 | 0.6795045 | 0 | 1 | 6.344056 | 0 | 0 | 0 | 0 |\n",
       "|  7 | 1 | 35 | 2 | 1985 | 2 |  68459 | 243.25624 | 0.2174378 | 1.9 | ⋯ | 20.6 | 0 | 0.6795045 | 0 | 0 | 6.135781 | 0 | 0 | 0 | 0 |\n",
       "|  8 | 1 | 40 | 1 | 1985 | 2 | 177798 |  70.06068 | 0.2174378 | 1.9 | ⋯ | 20.6 | 0 | 0.6795045 | 1 | 0 | 2.740840 | 0 | 0 | 0 | 0 |\n",
       "|  9 | 1 | 20 | 1 | 1985 | 2 | 252076 | 100.83680 | 0.2174378 | 1.9 | ⋯ | 20.6 | 0 | 0.6795045 | 1 | 0 | 6.480964 | 0 | 0 | 0 | 0 |\n",
       "| 10 | 1 | 35 | 1 | 1985 | 2 | 203621 |  74.87242 | 0.2174378 | 1.9 | ⋯ | 20.6 | 0 | 0.6795045 | 1 | 0 | 3.691376 | 0 | 0 | 0 | 0 |\n",
       "| 11 | 1 | 35 | 2 | 1985 | 1 |  68459 | 243.25624 | 0.2174378 | 1.9 | ⋯ | 20.6 | 0 | 0.6795045 | 0 | 1 | 7.156411 | 0 | 0 | 0 | 0 |\n",
       "| 12 | 1 | 30 | 2 | 1985 | 2 |  78805 | 371.47580 | 0.2174378 | 1.9 | ⋯ | 20.6 | 0 | 0.6795045 | 0 | 0 | 7.148503 | 0 | 0 | 0 | 0 |\n",
       "| 13 | 1 | 40 | 2 | 1985 | 2 |  48527 | 199.46300 | 0.2174378 | 1.9 | ⋯ | 20.6 | 0 | 0.6795045 | 0 | 0 | 5.515443 | 0 | 0 | 0 | 0 |\n",
       "| 14 | 1 | 25 | 2 | 1985 | 1 |  84353 | 513.94031 | 0.2174378 | 1.9 | ⋯ | 20.6 | 0 | 0.6795045 | 0 | 1 | 8.645217 | 0 | 2 | 0 | 0 |\n",
       "| 15 | 1 | 15 | 1 | 1985 | 1 | 224003 |  51.38925 | 0.2174378 | 1.9 | ⋯ | 20.6 | 0 | 0.6795045 | 1 | 1 | 5.277094 | 1 | 1 | 0 | 0 |\n",
       "| 16 | 1 | 25 | 1 | 1985 | 2 | 246472 |  95.24011 | 0.2174378 | 1.9 | ⋯ | 20.6 | 0 | 0.6795045 | 1 | 0 | 5.544787 | 0 | 2 | 0 | 0 |\n",
       "| 17 | 1 | 40 | 1 | 1985 | 1 | 177798 |  70.06068 | 0.2174378 | 1.9 | ⋯ | 20.6 | 0 | 0.6795045 | 1 | 1 | 3.465736 | 0 | 0 | 0 | 0 |\n",
       "| 18 | 1 | 25 | 2 | 1985 | 2 |  84353 | 513.94031 | 0.2174378 | 1.9 | ⋯ | 20.6 | 0 | 0.6795045 | 0 | 0 | 8.268040 | 0 | 2 | 0 | 0 |\n",
       "| 19 | 1 | 25 | 1 | 1985 | 1 | 246472 |  95.24011 | 0.2174378 | 1.9 | ⋯ | 20.6 | 0 | 0.6795045 | 1 | 1 | 5.467216 | 0 | 2 | 0 | 0 |\n",
       "| 20 | 1 | 15 | 2 | 1985 | 2 | 106187 | 100.62804 | 0.2174378 | 1.9 | ⋯ | 20.6 | 0 | 0.6795045 | 0 | 0 | 8.783779 | 1 | 1 | 0 | 1 |\n",
       "| 21 | 1 | 30 | 1 | 1985 | 2 | 227226 | 102.52824 | 0.2174378 | 1.9 | ⋯ | 20.6 | 0 | 0.6795045 | 1 | 0 | 4.604170 | 0 | 0 | 0 | 0 |\n",
       "| 22 | 1 | 35 | 1 | 1985 | 1 | 203621 |  74.87242 | 0.2174378 | 1.9 | ⋯ | 20.6 | 0 | 0.6795045 | 1 | 1 | 4.144721 | 0 | 0 | 0 | 0 |\n",
       "| 23 | 1 | 15 | 2 | 1985 | 1 | 106187 | 100.62804 | 0.2174378 | 1.9 | ⋯ | 20.6 | 0 | 0.6795045 | 0 | 1 | 8.331682 | 1 | 1 | 0 | 0 |\n",
       "| 24 | 1 | 30 | 1 | 1985 | 1 | 227226 | 102.52824 | 0.2174378 | 1.9 | ⋯ | 20.6 | 0 | 0.6795045 | 1 | 1 | 4.560173 | 0 | 0 | 0 | 0 |\n",
       "| 25 | 1 | 20 | 2 | 1986 | 2 |  91469 | 412.25961 | 0.2768753 | 1.9 | ⋯ | 23.8 | 0 | 1.5311961 | 0 | 0 | 8.873902 | 0 | 0 | 0 | 0 |\n",
       "| 26 | 1 | 40 | 1 | 1986 | 1 | 180098 |  80.09454 | 0.2768753 | 1.9 | ⋯ | 23.8 | 0 | 1.5311961 | 1 | 1 | 3.377588 | 0 | 0 | 0 | 0 |\n",
       "| 27 | 1 | 15 | 2 | 1986 | 1 | 106831 | 111.85746 | 0.2768753 | 1.9 | ⋯ | 23.8 | 0 | 1.5311961 | 0 | 1 | 8.196685 | 1 | 1 | 0 | 0 |\n",
       "| 28 | 1 | 25 | 2 | 1986 | 2 |  84593 | 549.59875 | 0.2768753 | 1.9 | ⋯ | 23.8 | 0 | 1.5311961 | 0 | 0 | 8.039061 | 0 | 2 | 0 | 0 |\n",
       "| 29 | 1 | 35 | 1 | 1986 | 1 | 214073 |  83.59454 | 0.2768753 | 1.9 | ⋯ | 23.8 | 0 | 1.5311961 | 1 | 1 | 3.763523 | 0 | 0 | 0 | 0 |\n",
       "| 30 | 1 | 35 | 1 | 1986 | 2 | 214073 |  83.59454 | 0.2768753 | 1.9 | ⋯ | 23.8 | 0 | 1.5311961 | 1 | 0 | 3.616309 | 0 | 0 | 0 | 0 |\n",
       "| ⋮ | ⋮ | ⋮ | ⋮ | ⋮ | ⋮ | ⋮ | ⋮ | ⋮ | ⋮ | ⋱ | ⋮ | ⋮ | ⋮ | ⋮ | ⋮ | ⋮ | ⋮ | ⋮ | ⋮ | ⋮ |\n",
       "| 19519 | 56 | 25 | 1 | 1998 | 1 | 25377 |  426.5659 | -0.8698689 | 2.40 | ⋯ | 10.6 | 0 | 5.333803 | 1 | 1 | 2.028148 | 0 | 102 | 0 | 0 |\n",
       "| 19520 | 56 | 25 | 2 | 1998 | 2 |   341 | 2133.3335 | -0.8698689 | 2.40 | ⋯ | 10.6 | 0 | 5.333803 | 0 | 0 | 6.660959 | 0 | 102 | 0 | 0 |\n",
       "| 19522 | 56 | 15 | 1 | 1998 | 1 | 37863 |  189.1877 | -0.8698689 | 2.40 | ⋯ | 10.6 | 0 | 5.333803 | 1 | 1 | 1.629241 | 1 | 101 | 1 | 0 |\n",
       "| 19524 | 56 | 30 | 1 | 1998 | 2 | 26918 |  282.9755 | -0.8698689 | 2.40 | ⋯ | 10.6 | 0 | 5.333803 | 1 | 0 | 2.714695 | 0 |   0 | 0 | 0 |\n",
       "| 19525 | 56 | 15 | 2 | 1998 | 1 |   408 | 3038.7598 | -0.8698689 | 2.40 | ⋯ | 10.6 | 0 | 5.333803 | 0 | 1 | 6.015669 | 1 | 101 | 1 | 0 |\n",
       "| 19527 | 56 | 20 | 1 | 1998 | 1 | 29091 |  481.4924 | -0.8698689 | 2.40 | ⋯ | 10.6 | 0 | 5.333803 | 1 | 1 | 2.580217 | 0 |   0 | 0 | 0 |\n",
       "| 19531 | 56 | 20 | 2 | 1998 | 1 |   497 | 2371.5415 | -0.8698689 | 2.40 | ⋯ | 10.6 | 0 | 5.333803 | 0 | 1 | 5.660875 | 0 |   0 | 0 | 0 |\n",
       "| 19533 | 56 | 30 | 2 | 1998 | 2 |   244 | 2649.0066 | -0.8698689 | 2.40 | ⋯ | 10.6 | 0 | 5.333803 | 0 | 0 | 6.917805 | 0 |   0 | 0 | 0 |\n",
       "| 19535 | 56 | 25 | 1 | 1998 | 2 | 25377 |  426.5659 | -0.8698689 | 2.40 | ⋯ | 10.6 | 0 | 5.333803 | 1 | 0 | 2.104134 | 0 | 102 | 0 | 0 |\n",
       "| 19537 | 56 | 15 | 1 | 1999 | 2 | 37432 |  192.4926 | -0.4207321 | 2.43 | ⋯ | 11.6 | 0 | 2.654275 | 1 | 0 | 3.325036 | 1 | 101 | 1 | 0 |\n",
       "| 19543 | 56 | 20 | 2 | 1999 | 1 |   465 | 2667.9841 | -0.4207321 | 2.43 | ⋯ | 11.6 | 0 | 2.654275 | 0 | 1 | 5.776413 | 0 |   0 | 0 | 0 |\n",
       "| 19551 | 56 | 15 | 1 | 1999 | 1 | 37432 |  192.4926 | -0.4207321 | 2.43 | ⋯ | 11.6 | 0 | 2.654275 | 1 | 1 | 2.332144 | 1 | 101 | 1 | 0 |\n",
       "| 19553 | 56 | 20 | 1 | 1999 | 1 | 28879 |  498.5172 | -0.4207321 | 2.43 | ⋯ | 11.6 | 0 | 2.654275 | 1 | 1 | 3.288402 | 0 |   0 | 0 | 0 |\n",
       "| 19555 | 56 | 25 | 1 | 1999 | 2 | 25850 |  448.3460 | -0.4207321 | 2.43 | ⋯ | 11.6 | 0 | 2.654275 | 1 | 0 | 2.772589 | 0 | 102 | 0 | 0 |\n",
       "| 19556 | 56 | 30 | 1 | 1999 | 1 | 26091 |  314.9176 | -0.4207321 | 2.43 | ⋯ | 11.6 | 0 | 2.654275 | 1 | 1 | 2.714695 | 0 |   0 | 0 | 0 |\n",
       "| 19558 | 56 | 20 | 1 | 1999 | 2 | 28879 |  498.5172 | -0.4207321 | 2.43 | ⋯ | 11.6 | 0 | 2.654275 | 1 | 0 | 3.761200 | 0 |   0 | 0 | 0 |\n",
       "| 19562 | 56 | 15 | 2 | 2000 | 1 |   420 | 3798.4497 |  0.1136283 | 2.46 | ⋯ | 10.8 | 0 | 2.844398 | 0 | 1 | 6.028038 | 1 | 101 | 1 | 0 |\n",
       "| 19565 | 56 | 20 | 1 | 2000 | 1 | 29522 |  515.5421 |  0.1136283 | 2.46 | ⋯ | 10.8 | 0 | 2.844398 | 1 | 1 | 2.564949 | 0 |   0 | 0 | 0 |\n",
       "| 19566 | 56 | 20 | 2 | 2000 | 1 |   495 | 2964.4268 |  0.1136283 | 2.46 | ⋯ | 10.8 | 0 | 2.844398 | 0 | 1 | 6.391917 | 0 |   0 | 0 | 0 |\n",
       "| 19568 | 56 | 40 | 1 | 2000 | 1 | 38781 |  129.3755 |  0.1136283 | 2.46 | ⋯ | 10.8 | 0 | 2.844398 | 1 | 1 | 1.629241 | 0 |   0 | 0 | 0 |\n",
       "| 19570 | 56 | 20 | 1 | 2000 | 2 | 29522 |  515.5421 |  0.1136283 | 2.46 | ⋯ | 10.8 | 0 | 2.844398 | 1 | 0 | 1.945910 | 0 |   0 | 0 | 0 |\n",
       "| 19571 | 56 | 25 | 1 | 2000 | 1 | 26100 |  470.1260 |  0.1136283 | 2.46 | ⋯ | 10.8 | 0 | 2.844398 | 1 | 1 | 2.001480 | 0 | 102 | 0 | 0 |\n",
       "| 19573 | 56 | 30 | 1 | 2000 | 2 | 26371 |  346.8596 |  0.1136283 | 2.46 | ⋯ | 10.8 | 0 | 2.844398 | 1 | 0 | 2.734367 | 0 |   0 | 0 | 0 |\n",
       "| 19575 | 56 | 20 | 2 | 2000 | 2 |   495 | 2964.4268 |  0.1136283 | 2.46 | ⋯ | 10.8 | 0 | 2.844398 | 0 | 0 | 6.437752 | 0 |   0 | 0 | 0 |\n",
       "| 19577 | 56 | 15 | 2 | 2000 | 2 |   420 | 3798.4497 |  0.1136283 | 2.46 | ⋯ | 10.8 | 0 | 2.844398 | 0 | 0 | 6.325613 | 1 | 101 | 1 | 1 |\n",
       "| 19578 | 56 | 25 | 1 | 2000 | 2 | 26100 |  470.1260 |  0.1136283 | 2.46 | ⋯ | 10.8 | 0 | 2.844398 | 1 | 0 | 3.169686 | 0 | 102 | 0 | 0 |\n",
       "| 19579 | 56 | 15 | 1 | 2000 | 2 | 36639 |  195.7975 |  0.1136283 | 2.46 | ⋯ | 10.8 | 0 | 2.844398 | 1 | 0 | 3.681351 | 1 | 101 | 1 | 0 |\n",
       "| 19580 | 56 | 15 | 1 | 2000 | 1 | 36639 |  195.7975 |  0.1136283 | 2.46 | ⋯ | 10.8 | 0 | 2.844398 | 1 | 1 | 1.667707 | 1 | 101 | 1 | 0 |\n",
       "| 19582 | 56 | 30 | 1 | 2000 | 1 | 26371 |  346.8596 |  0.1136283 | 2.46 | ⋯ | 10.8 | 0 | 2.844398 | 1 | 1 | 2.701361 | 0 |   0 | 0 | 0 |\n",
       "| 19583 | 56 | 35 | 1 | 2000 | 1 | 32562 |  365.8763 |  0.1136283 | 2.46 | ⋯ | 10.8 | 0 | 2.844398 | 1 | 1 | 3.214868 | 0 |   0 | 0 | 0 |\n",
       "\n"
      ],
      "text/plain": [
       "      ...1  fip age race year sex totpop ir        crack      alcohol <U+22EF>       \n",
       "1      1    1   30  2    1985 1    78805 371.47580 0.2174378  1.9     <U+22EF>\n",
       "2      2    1   15  1    1985 2   224003  51.38925 0.2174378  1.9     <U+22EF>\n",
       "3      3    1   20  2    1985 2    94113 390.87567 0.2174378  1.9     <U+22EF>\n",
       "4      4    1   20  1    1985 1   252076 100.83680 0.2174378  1.9     <U+22EF>\n",
       "5      5    1   20  2    1985 1    94113 390.87567 0.2174378  1.9     <U+22EF>\n",
       "6      6    1   40  2    1985 1    48527 199.46300 0.2174378  1.9     <U+22EF>\n",
       "7      7    1   35  2    1985 2    68459 243.25624 0.2174378  1.9     <U+22EF>\n",
       "8      8    1   40  1    1985 2   177798  70.06068 0.2174378  1.9     <U+22EF>\n",
       "9      9    1   20  1    1985 2   252076 100.83680 0.2174378  1.9     <U+22EF>\n",
       "10    10    1   35  1    1985 2   203621  74.87242 0.2174378  1.9     <U+22EF>\n",
       "11    11    1   35  2    1985 1    68459 243.25624 0.2174378  1.9     <U+22EF>\n",
       "12    12    1   30  2    1985 2    78805 371.47580 0.2174378  1.9     <U+22EF>\n",
       "13    13    1   40  2    1985 2    48527 199.46300 0.2174378  1.9     <U+22EF>\n",
       "14    14    1   25  2    1985 1    84353 513.94031 0.2174378  1.9     <U+22EF>\n",
       "15    15    1   15  1    1985 1   224003  51.38925 0.2174378  1.9     <U+22EF>\n",
       "16    16    1   25  1    1985 2   246472  95.24011 0.2174378  1.9     <U+22EF>\n",
       "17    17    1   40  1    1985 1   177798  70.06068 0.2174378  1.9     <U+22EF>\n",
       "18    18    1   25  2    1985 2    84353 513.94031 0.2174378  1.9     <U+22EF>\n",
       "19    19    1   25  1    1985 1   246472  95.24011 0.2174378  1.9     <U+22EF>\n",
       "20    20    1   15  2    1985 2   106187 100.62804 0.2174378  1.9     <U+22EF>\n",
       "21    21    1   30  1    1985 2   227226 102.52824 0.2174378  1.9     <U+22EF>\n",
       "22    22    1   35  1    1985 1   203621  74.87242 0.2174378  1.9     <U+22EF>\n",
       "23    23    1   15  2    1985 1   106187 100.62804 0.2174378  1.9     <U+22EF>\n",
       "24    24    1   30  1    1985 1   227226 102.52824 0.2174378  1.9     <U+22EF>\n",
       "25    25    1   20  2    1986 2    91469 412.25961 0.2768753  1.9     <U+22EF>\n",
       "26    26    1   40  1    1986 1   180098  80.09454 0.2768753  1.9     <U+22EF>\n",
       "27    27    1   15  2    1986 1   106831 111.85746 0.2768753  1.9     <U+22EF>\n",
       "28    28    1   25  2    1986 2    84593 549.59875 0.2768753  1.9     <U+22EF>\n",
       "29    29    1   35  1    1986 1   214073  83.59454 0.2768753  1.9     <U+22EF>\n",
       "30    30    1   35  1    1986 2   214073  83.59454 0.2768753  1.9     <U+22EF>\n",
       "<U+22EE>     <U+22EE> <U+22EE> <U+22EE> <U+22EE> <U+22EE> <U+22EE> <U+22EE> <U+22EE>  <U+22EE>   <U+22EE> <U+22F1>\n",
       "17892 19519 56  25  1    1998 1   25377   426.5659 -0.8698689 2.40    <U+22EF>\n",
       "17893 19520 56  25  2    1998 2     341  2133.3335 -0.8698689 2.40    <U+22EF>\n",
       "17894 19522 56  15  1    1998 1   37863   189.1877 -0.8698689 2.40    <U+22EF>\n",
       "17895 19524 56  30  1    1998 2   26918   282.9755 -0.8698689 2.40    <U+22EF>\n",
       "17896 19525 56  15  2    1998 1     408  3038.7598 -0.8698689 2.40    <U+22EF>\n",
       "17897 19527 56  20  1    1998 1   29091   481.4924 -0.8698689 2.40    <U+22EF>\n",
       "17898 19531 56  20  2    1998 1     497  2371.5415 -0.8698689 2.40    <U+22EF>\n",
       "17899 19533 56  30  2    1998 2     244  2649.0066 -0.8698689 2.40    <U+22EF>\n",
       "17900 19535 56  25  1    1998 2   25377   426.5659 -0.8698689 2.40    <U+22EF>\n",
       "17901 19537 56  15  1    1999 2   37432   192.4926 -0.4207321 2.43    <U+22EF>\n",
       "17902 19543 56  20  2    1999 1     465  2667.9841 -0.4207321 2.43    <U+22EF>\n",
       "17903 19551 56  15  1    1999 1   37432   192.4926 -0.4207321 2.43    <U+22EF>\n",
       "17904 19553 56  20  1    1999 1   28879   498.5172 -0.4207321 2.43    <U+22EF>\n",
       "17905 19555 56  25  1    1999 2   25850   448.3460 -0.4207321 2.43    <U+22EF>\n",
       "17906 19556 56  30  1    1999 1   26091   314.9176 -0.4207321 2.43    <U+22EF>\n",
       "17907 19558 56  20  1    1999 2   28879   498.5172 -0.4207321 2.43    <U+22EF>\n",
       "17908 19562 56  15  2    2000 1     420  3798.4497  0.1136283 2.46    <U+22EF>\n",
       "17909 19565 56  20  1    2000 1   29522   515.5421  0.1136283 2.46    <U+22EF>\n",
       "17910 19566 56  20  2    2000 1     495  2964.4268  0.1136283 2.46    <U+22EF>\n",
       "17911 19568 56  40  1    2000 1   38781   129.3755  0.1136283 2.46    <U+22EF>\n",
       "17912 19570 56  20  1    2000 2   29522   515.5421  0.1136283 2.46    <U+22EF>\n",
       "17913 19571 56  25  1    2000 1   26100   470.1260  0.1136283 2.46    <U+22EF>\n",
       "17914 19573 56  30  1    2000 2   26371   346.8596  0.1136283 2.46    <U+22EF>\n",
       "17915 19575 56  20  2    2000 2     495  2964.4268  0.1136283 2.46    <U+22EF>\n",
       "17916 19577 56  15  2    2000 2     420  3798.4497  0.1136283 2.46    <U+22EF>\n",
       "17917 19578 56  25  1    2000 2   26100   470.1260  0.1136283 2.46    <U+22EF>\n",
       "17918 19579 56  15  1    2000 2   36639   195.7975  0.1136283 2.46    <U+22EF>\n",
       "17919 19580 56  15  1    2000 1   36639   195.7975  0.1136283 2.46    <U+22EF>\n",
       "17920 19582 56  30  1    2000 1   26371   346.8596  0.1136283 2.46    <U+22EF>\n",
       "17921 19583 56  35  1    2000 1   32562   365.8763  0.1136283 2.46    <U+22EF>\n",
       "      poverty repeal acc       wht male lnr      younger fa  pi bf15\n",
       "1     20.6    0      0.6795045 0   1    7.880880 0       0   0  0   \n",
       "2     20.6    0      0.6795045 1   0    6.362165 1       1   0  0   \n",
       "3     20.6    0      0.6795045 0   0    8.917793 0       0   0  0   \n",
       "4     20.6    0      0.6795045 1   1    5.906995 0       0   0  0   \n",
       "5     20.6    0      0.6795045 0   1    9.072009 0       0   0  0   \n",
       "6     20.6    0      0.6795045 0   1    6.344056 0       0   0  0   \n",
       "7     20.6    0      0.6795045 0   0    6.135781 0       0   0  0   \n",
       "8     20.6    0      0.6795045 1   0    2.740840 0       0   0  0   \n",
       "9     20.6    0      0.6795045 1   0    6.480964 0       0   0  0   \n",
       "10    20.6    0      0.6795045 1   0    3.691376 0       0   0  0   \n",
       "11    20.6    0      0.6795045 0   1    7.156411 0       0   0  0   \n",
       "12    20.6    0      0.6795045 0   0    7.148503 0       0   0  0   \n",
       "13    20.6    0      0.6795045 0   0    5.515443 0       0   0  0   \n",
       "14    20.6    0      0.6795045 0   1    8.645217 0       2   0  0   \n",
       "15    20.6    0      0.6795045 1   1    5.277094 1       1   0  0   \n",
       "16    20.6    0      0.6795045 1   0    5.544787 0       2   0  0   \n",
       "17    20.6    0      0.6795045 1   1    3.465736 0       0   0  0   \n",
       "18    20.6    0      0.6795045 0   0    8.268040 0       2   0  0   \n",
       "19    20.6    0      0.6795045 1   1    5.467216 0       2   0  0   \n",
       "20    20.6    0      0.6795045 0   0    8.783779 1       1   0  1   \n",
       "21    20.6    0      0.6795045 1   0    4.604170 0       0   0  0   \n",
       "22    20.6    0      0.6795045 1   1    4.144721 0       0   0  0   \n",
       "23    20.6    0      0.6795045 0   1    8.331682 1       1   0  0   \n",
       "24    20.6    0      0.6795045 1   1    4.560173 0       0   0  0   \n",
       "25    23.8    0      1.5311961 0   0    8.873902 0       0   0  0   \n",
       "26    23.8    0      1.5311961 1   1    3.377588 0       0   0  0   \n",
       "27    23.8    0      1.5311961 0   1    8.196685 1       1   0  0   \n",
       "28    23.8    0      1.5311961 0   0    8.039061 0       2   0  0   \n",
       "29    23.8    0      1.5311961 1   1    3.763523 0       0   0  0   \n",
       "30    23.8    0      1.5311961 1   0    3.616309 0       0   0  0   \n",
       "<U+22EE>     <U+22EE> <U+22EE> <U+22EE>  <U+22EE> <U+22EE> <U+22EE> <U+22EE> <U+22EE> <U+22EE> <U+22EE>\n",
       "17892 10.6    0      5.333803  1   1    2.028148 0       102 0  0   \n",
       "17893 10.6    0      5.333803  0   0    6.660959 0       102 0  0   \n",
       "17894 10.6    0      5.333803  1   1    1.629241 1       101 1  0   \n",
       "17895 10.6    0      5.333803  1   0    2.714695 0         0 0  0   \n",
       "17896 10.6    0      5.333803  0   1    6.015669 1       101 1  0   \n",
       "17897 10.6    0      5.333803  1   1    2.580217 0         0 0  0   \n",
       "17898 10.6    0      5.333803  0   1    5.660875 0         0 0  0   \n",
       "17899 10.6    0      5.333803  0   0    6.917805 0         0 0  0   \n",
       "17900 10.6    0      5.333803  1   0    2.104134 0       102 0  0   \n",
       "17901 11.6    0      2.654275  1   0    3.325036 1       101 1  0   \n",
       "17902 11.6    0      2.654275  0   1    5.776413 0         0 0  0   \n",
       "17903 11.6    0      2.654275  1   1    2.332144 1       101 1  0   \n",
       "17904 11.6    0      2.654275  1   1    3.288402 0         0 0  0   \n",
       "17905 11.6    0      2.654275  1   0    2.772589 0       102 0  0   \n",
       "17906 11.6    0      2.654275  1   1    2.714695 0         0 0  0   \n",
       "17907 11.6    0      2.654275  1   0    3.761200 0         0 0  0   \n",
       "17908 10.8    0      2.844398  0   1    6.028038 1       101 1  0   \n",
       "17909 10.8    0      2.844398  1   1    2.564949 0         0 0  0   \n",
       "17910 10.8    0      2.844398  0   1    6.391917 0         0 0  0   \n",
       "17911 10.8    0      2.844398  1   1    1.629241 0         0 0  0   \n",
       "17912 10.8    0      2.844398  1   0    1.945910 0         0 0  0   \n",
       "17913 10.8    0      2.844398  1   1    2.001480 0       102 0  0   \n",
       "17914 10.8    0      2.844398  1   0    2.734367 0         0 0  0   \n",
       "17915 10.8    0      2.844398  0   0    6.437752 0         0 0  0   \n",
       "17916 10.8    0      2.844398  0   0    6.325613 1       101 1  1   \n",
       "17917 10.8    0      2.844398  1   0    3.169686 0       102 0  0   \n",
       "17918 10.8    0      2.844398  1   0    3.681351 1       101 1  0   \n",
       "17919 10.8    0      2.844398  1   1    1.667707 1       101 1  0   \n",
       "17920 10.8    0      2.844398  1   1    2.701361 0         0 0  0   \n",
       "17921 10.8    0      2.844398  1   1    3.214868 0         0 0  0   "
      ]
     },
     "metadata": {},
     "output_type": "display_data"
    }
   ],
   "source": [
    "df"
   ]
  },
  {
   "cell_type": "code",
   "execution_count": 44,
   "id": "90b48455",
   "metadata": {},
   "outputs": [],
   "source": [
    "df[!is.na(lnr) & !is.na(totpop),`:=`(gender = factor(df$sex, labels = c(\"male\", \"female\")), \n",
    "                                          rest = factor(df$repeal, labels = c(\"yes\", \"no\")),\n",
    "                                         eth = factor(df$race, labels = c(\"white\", \"black\"))),]"
   ]
  },
  {
   "cell_type": "code",
   "execution_count": 45,
   "id": "141b5f07",
   "metadata": {},
   "outputs": [
    {
     "data": {
      "text/html": [
       "<table class=\"dataframe\">\n",
       "<caption>A data.table: 17921 × 25</caption>\n",
       "<thead>\n",
       "\t<tr><th scope=col>...1</th><th scope=col>fip</th><th scope=col>age</th><th scope=col>race</th><th scope=col>year</th><th scope=col>sex</th><th scope=col>totpop</th><th scope=col>ir</th><th scope=col>crack</th><th scope=col>alcohol</th><th scope=col>⋯</th><th scope=col>wht</th><th scope=col>male</th><th scope=col>lnr</th><th scope=col>younger</th><th scope=col>fa</th><th scope=col>pi</th><th scope=col>bf15</th><th scope=col>gender</th><th scope=col>rest</th><th scope=col>eth</th></tr>\n",
       "\t<tr><th scope=col>&lt;dbl&gt;</th><th scope=col>&lt;dbl&gt;</th><th scope=col>&lt;dbl&gt;</th><th scope=col>&lt;dbl&gt;</th><th scope=col>&lt;dbl&gt;</th><th scope=col>&lt;dbl&gt;</th><th scope=col>&lt;dbl&gt;</th><th scope=col>&lt;dbl&gt;</th><th scope=col>&lt;dbl&gt;</th><th scope=col>&lt;dbl&gt;</th><th scope=col>⋯</th><th scope=col>&lt;dbl&gt;</th><th scope=col>&lt;dbl&gt;</th><th scope=col>&lt;dbl&gt;</th><th scope=col>&lt;dbl&gt;</th><th scope=col>&lt;dbl&gt;</th><th scope=col>&lt;dbl&gt;</th><th scope=col>&lt;dbl&gt;</th><th scope=col>&lt;fct&gt;</th><th scope=col>&lt;fct&gt;</th><th scope=col>&lt;fct&gt;</th></tr>\n",
       "</thead>\n",
       "<tbody>\n",
       "\t<tr><td> 1</td><td>1</td><td>30</td><td>2</td><td>1985</td><td>1</td><td> 78805</td><td>371.47580</td><td>0.2174378</td><td>1.9</td><td>⋯</td><td>0</td><td>1</td><td>7.880880</td><td>0</td><td>0</td><td>0</td><td>0</td><td>male  </td><td>yes</td><td>black</td></tr>\n",
       "\t<tr><td> 2</td><td>1</td><td>15</td><td>1</td><td>1985</td><td>2</td><td>224003</td><td> 51.38925</td><td>0.2174378</td><td>1.9</td><td>⋯</td><td>1</td><td>0</td><td>6.362165</td><td>1</td><td>1</td><td>0</td><td>0</td><td>female</td><td>yes</td><td>white</td></tr>\n",
       "\t<tr><td> 3</td><td>1</td><td>20</td><td>2</td><td>1985</td><td>2</td><td> 94113</td><td>390.87567</td><td>0.2174378</td><td>1.9</td><td>⋯</td><td>0</td><td>0</td><td>8.917793</td><td>0</td><td>0</td><td>0</td><td>0</td><td>female</td><td>yes</td><td>black</td></tr>\n",
       "\t<tr><td> 4</td><td>1</td><td>20</td><td>1</td><td>1985</td><td>1</td><td>252076</td><td>100.83680</td><td>0.2174378</td><td>1.9</td><td>⋯</td><td>1</td><td>1</td><td>5.906995</td><td>0</td><td>0</td><td>0</td><td>0</td><td>male  </td><td>yes</td><td>white</td></tr>\n",
       "\t<tr><td> 5</td><td>1</td><td>20</td><td>2</td><td>1985</td><td>1</td><td> 94113</td><td>390.87567</td><td>0.2174378</td><td>1.9</td><td>⋯</td><td>0</td><td>1</td><td>9.072009</td><td>0</td><td>0</td><td>0</td><td>0</td><td>male  </td><td>yes</td><td>black</td></tr>\n",
       "\t<tr><td> 6</td><td>1</td><td>40</td><td>2</td><td>1985</td><td>1</td><td> 48527</td><td>199.46300</td><td>0.2174378</td><td>1.9</td><td>⋯</td><td>0</td><td>1</td><td>6.344056</td><td>0</td><td>0</td><td>0</td><td>0</td><td>male  </td><td>yes</td><td>black</td></tr>\n",
       "\t<tr><td> 7</td><td>1</td><td>35</td><td>2</td><td>1985</td><td>2</td><td> 68459</td><td>243.25624</td><td>0.2174378</td><td>1.9</td><td>⋯</td><td>0</td><td>0</td><td>6.135781</td><td>0</td><td>0</td><td>0</td><td>0</td><td>female</td><td>yes</td><td>black</td></tr>\n",
       "\t<tr><td> 8</td><td>1</td><td>40</td><td>1</td><td>1985</td><td>2</td><td>177798</td><td> 70.06068</td><td>0.2174378</td><td>1.9</td><td>⋯</td><td>1</td><td>0</td><td>2.740840</td><td>0</td><td>0</td><td>0</td><td>0</td><td>female</td><td>yes</td><td>white</td></tr>\n",
       "\t<tr><td> 9</td><td>1</td><td>20</td><td>1</td><td>1985</td><td>2</td><td>252076</td><td>100.83680</td><td>0.2174378</td><td>1.9</td><td>⋯</td><td>1</td><td>0</td><td>6.480964</td><td>0</td><td>0</td><td>0</td><td>0</td><td>female</td><td>yes</td><td>white</td></tr>\n",
       "\t<tr><td>10</td><td>1</td><td>35</td><td>1</td><td>1985</td><td>2</td><td>203621</td><td> 74.87242</td><td>0.2174378</td><td>1.9</td><td>⋯</td><td>1</td><td>0</td><td>3.691376</td><td>0</td><td>0</td><td>0</td><td>0</td><td>female</td><td>yes</td><td>white</td></tr>\n",
       "\t<tr><td>11</td><td>1</td><td>35</td><td>2</td><td>1985</td><td>1</td><td> 68459</td><td>243.25624</td><td>0.2174378</td><td>1.9</td><td>⋯</td><td>0</td><td>1</td><td>7.156411</td><td>0</td><td>0</td><td>0</td><td>0</td><td>male  </td><td>yes</td><td>black</td></tr>\n",
       "\t<tr><td>12</td><td>1</td><td>30</td><td>2</td><td>1985</td><td>2</td><td> 78805</td><td>371.47580</td><td>0.2174378</td><td>1.9</td><td>⋯</td><td>0</td><td>0</td><td>7.148503</td><td>0</td><td>0</td><td>0</td><td>0</td><td>female</td><td>yes</td><td>black</td></tr>\n",
       "\t<tr><td>13</td><td>1</td><td>40</td><td>2</td><td>1985</td><td>2</td><td> 48527</td><td>199.46300</td><td>0.2174378</td><td>1.9</td><td>⋯</td><td>0</td><td>0</td><td>5.515443</td><td>0</td><td>0</td><td>0</td><td>0</td><td>female</td><td>yes</td><td>black</td></tr>\n",
       "\t<tr><td>14</td><td>1</td><td>25</td><td>2</td><td>1985</td><td>1</td><td> 84353</td><td>513.94031</td><td>0.2174378</td><td>1.9</td><td>⋯</td><td>0</td><td>1</td><td>8.645217</td><td>0</td><td>2</td><td>0</td><td>0</td><td>male  </td><td>yes</td><td>black</td></tr>\n",
       "\t<tr><td>15</td><td>1</td><td>15</td><td>1</td><td>1985</td><td>1</td><td>224003</td><td> 51.38925</td><td>0.2174378</td><td>1.9</td><td>⋯</td><td>1</td><td>1</td><td>5.277094</td><td>1</td><td>1</td><td>0</td><td>0</td><td>male  </td><td>yes</td><td>white</td></tr>\n",
       "\t<tr><td>16</td><td>1</td><td>25</td><td>1</td><td>1985</td><td>2</td><td>246472</td><td> 95.24011</td><td>0.2174378</td><td>1.9</td><td>⋯</td><td>1</td><td>0</td><td>5.544787</td><td>0</td><td>2</td><td>0</td><td>0</td><td>female</td><td>yes</td><td>white</td></tr>\n",
       "\t<tr><td>17</td><td>1</td><td>40</td><td>1</td><td>1985</td><td>1</td><td>177798</td><td> 70.06068</td><td>0.2174378</td><td>1.9</td><td>⋯</td><td>1</td><td>1</td><td>3.465736</td><td>0</td><td>0</td><td>0</td><td>0</td><td>male  </td><td>yes</td><td>white</td></tr>\n",
       "\t<tr><td>18</td><td>1</td><td>25</td><td>2</td><td>1985</td><td>2</td><td> 84353</td><td>513.94031</td><td>0.2174378</td><td>1.9</td><td>⋯</td><td>0</td><td>0</td><td>8.268040</td><td>0</td><td>2</td><td>0</td><td>0</td><td>female</td><td>yes</td><td>black</td></tr>\n",
       "\t<tr><td>19</td><td>1</td><td>25</td><td>1</td><td>1985</td><td>1</td><td>246472</td><td> 95.24011</td><td>0.2174378</td><td>1.9</td><td>⋯</td><td>1</td><td>1</td><td>5.467216</td><td>0</td><td>2</td><td>0</td><td>0</td><td>male  </td><td>yes</td><td>white</td></tr>\n",
       "\t<tr><td>20</td><td>1</td><td>15</td><td>2</td><td>1985</td><td>2</td><td>106187</td><td>100.62804</td><td>0.2174378</td><td>1.9</td><td>⋯</td><td>0</td><td>0</td><td>8.783779</td><td>1</td><td>1</td><td>0</td><td>1</td><td>female</td><td>yes</td><td>black</td></tr>\n",
       "\t<tr><td>21</td><td>1</td><td>30</td><td>1</td><td>1985</td><td>2</td><td>227226</td><td>102.52824</td><td>0.2174378</td><td>1.9</td><td>⋯</td><td>1</td><td>0</td><td>4.604170</td><td>0</td><td>0</td><td>0</td><td>0</td><td>female</td><td>yes</td><td>white</td></tr>\n",
       "\t<tr><td>22</td><td>1</td><td>35</td><td>1</td><td>1985</td><td>1</td><td>203621</td><td> 74.87242</td><td>0.2174378</td><td>1.9</td><td>⋯</td><td>1</td><td>1</td><td>4.144721</td><td>0</td><td>0</td><td>0</td><td>0</td><td>male  </td><td>yes</td><td>white</td></tr>\n",
       "\t<tr><td>23</td><td>1</td><td>15</td><td>2</td><td>1985</td><td>1</td><td>106187</td><td>100.62804</td><td>0.2174378</td><td>1.9</td><td>⋯</td><td>0</td><td>1</td><td>8.331682</td><td>1</td><td>1</td><td>0</td><td>0</td><td>male  </td><td>yes</td><td>black</td></tr>\n",
       "\t<tr><td>24</td><td>1</td><td>30</td><td>1</td><td>1985</td><td>1</td><td>227226</td><td>102.52824</td><td>0.2174378</td><td>1.9</td><td>⋯</td><td>1</td><td>1</td><td>4.560173</td><td>0</td><td>0</td><td>0</td><td>0</td><td>male  </td><td>yes</td><td>white</td></tr>\n",
       "\t<tr><td>25</td><td>1</td><td>20</td><td>2</td><td>1986</td><td>2</td><td> 91469</td><td>412.25961</td><td>0.2768753</td><td>1.9</td><td>⋯</td><td>0</td><td>0</td><td>8.873902</td><td>0</td><td>0</td><td>0</td><td>0</td><td>female</td><td>yes</td><td>black</td></tr>\n",
       "\t<tr><td>26</td><td>1</td><td>40</td><td>1</td><td>1986</td><td>1</td><td>180098</td><td> 80.09454</td><td>0.2768753</td><td>1.9</td><td>⋯</td><td>1</td><td>1</td><td>3.377588</td><td>0</td><td>0</td><td>0</td><td>0</td><td>male  </td><td>yes</td><td>white</td></tr>\n",
       "\t<tr><td>27</td><td>1</td><td>15</td><td>2</td><td>1986</td><td>1</td><td>106831</td><td>111.85746</td><td>0.2768753</td><td>1.9</td><td>⋯</td><td>0</td><td>1</td><td>8.196685</td><td>1</td><td>1</td><td>0</td><td>0</td><td>male  </td><td>yes</td><td>black</td></tr>\n",
       "\t<tr><td>28</td><td>1</td><td>25</td><td>2</td><td>1986</td><td>2</td><td> 84593</td><td>549.59875</td><td>0.2768753</td><td>1.9</td><td>⋯</td><td>0</td><td>0</td><td>8.039061</td><td>0</td><td>2</td><td>0</td><td>0</td><td>female</td><td>yes</td><td>black</td></tr>\n",
       "\t<tr><td>29</td><td>1</td><td>35</td><td>1</td><td>1986</td><td>1</td><td>214073</td><td> 83.59454</td><td>0.2768753</td><td>1.9</td><td>⋯</td><td>1</td><td>1</td><td>3.763523</td><td>0</td><td>0</td><td>0</td><td>0</td><td>male  </td><td>yes</td><td>white</td></tr>\n",
       "\t<tr><td>30</td><td>1</td><td>35</td><td>1</td><td>1986</td><td>2</td><td>214073</td><td> 83.59454</td><td>0.2768753</td><td>1.9</td><td>⋯</td><td>1</td><td>0</td><td>3.616309</td><td>0</td><td>0</td><td>0</td><td>0</td><td>female</td><td>yes</td><td>white</td></tr>\n",
       "\t<tr><td>⋮</td><td>⋮</td><td>⋮</td><td>⋮</td><td>⋮</td><td>⋮</td><td>⋮</td><td>⋮</td><td>⋮</td><td>⋮</td><td>⋱</td><td>⋮</td><td>⋮</td><td>⋮</td><td>⋮</td><td>⋮</td><td>⋮</td><td>⋮</td><td>⋮</td><td>⋮</td><td>⋮</td></tr>\n",
       "\t<tr><td>19519</td><td>56</td><td>25</td><td>1</td><td>1998</td><td>1</td><td>25377</td><td> 426.5659</td><td>-0.8698689</td><td>2.40</td><td>⋯</td><td>1</td><td>1</td><td>2.028148</td><td>0</td><td>102</td><td>0</td><td>0</td><td>male  </td><td>yes</td><td>white</td></tr>\n",
       "\t<tr><td>19520</td><td>56</td><td>25</td><td>2</td><td>1998</td><td>2</td><td>  341</td><td>2133.3335</td><td>-0.8698689</td><td>2.40</td><td>⋯</td><td>0</td><td>0</td><td>6.660959</td><td>0</td><td>102</td><td>0</td><td>0</td><td>female</td><td>yes</td><td>black</td></tr>\n",
       "\t<tr><td>19522</td><td>56</td><td>15</td><td>1</td><td>1998</td><td>1</td><td>37863</td><td> 189.1877</td><td>-0.8698689</td><td>2.40</td><td>⋯</td><td>1</td><td>1</td><td>1.629241</td><td>1</td><td>101</td><td>1</td><td>0</td><td>male  </td><td>yes</td><td>white</td></tr>\n",
       "\t<tr><td>19524</td><td>56</td><td>30</td><td>1</td><td>1998</td><td>2</td><td>26918</td><td> 282.9755</td><td>-0.8698689</td><td>2.40</td><td>⋯</td><td>1</td><td>0</td><td>2.714695</td><td>0</td><td>  0</td><td>0</td><td>0</td><td>female</td><td>yes</td><td>white</td></tr>\n",
       "\t<tr><td>19525</td><td>56</td><td>15</td><td>2</td><td>1998</td><td>1</td><td>  408</td><td>3038.7598</td><td>-0.8698689</td><td>2.40</td><td>⋯</td><td>0</td><td>1</td><td>6.015669</td><td>1</td><td>101</td><td>1</td><td>0</td><td>male  </td><td>yes</td><td>black</td></tr>\n",
       "\t<tr><td>19527</td><td>56</td><td>20</td><td>1</td><td>1998</td><td>1</td><td>29091</td><td> 481.4924</td><td>-0.8698689</td><td>2.40</td><td>⋯</td><td>1</td><td>1</td><td>2.580217</td><td>0</td><td>  0</td><td>0</td><td>0</td><td>male  </td><td>yes</td><td>white</td></tr>\n",
       "\t<tr><td>19531</td><td>56</td><td>20</td><td>2</td><td>1998</td><td>1</td><td>  497</td><td>2371.5415</td><td>-0.8698689</td><td>2.40</td><td>⋯</td><td>0</td><td>1</td><td>5.660875</td><td>0</td><td>  0</td><td>0</td><td>0</td><td>male  </td><td>yes</td><td>black</td></tr>\n",
       "\t<tr><td>19533</td><td>56</td><td>30</td><td>2</td><td>1998</td><td>2</td><td>  244</td><td>2649.0066</td><td>-0.8698689</td><td>2.40</td><td>⋯</td><td>0</td><td>0</td><td>6.917805</td><td>0</td><td>  0</td><td>0</td><td>0</td><td>female</td><td>yes</td><td>black</td></tr>\n",
       "\t<tr><td>19535</td><td>56</td><td>25</td><td>1</td><td>1998</td><td>2</td><td>25377</td><td> 426.5659</td><td>-0.8698689</td><td>2.40</td><td>⋯</td><td>1</td><td>0</td><td>2.104134</td><td>0</td><td>102</td><td>0</td><td>0</td><td>female</td><td>yes</td><td>white</td></tr>\n",
       "\t<tr><td>19537</td><td>56</td><td>15</td><td>1</td><td>1999</td><td>2</td><td>37432</td><td> 192.4926</td><td>-0.4207321</td><td>2.43</td><td>⋯</td><td>1</td><td>0</td><td>3.325036</td><td>1</td><td>101</td><td>1</td><td>0</td><td>female</td><td>yes</td><td>white</td></tr>\n",
       "\t<tr><td>19543</td><td>56</td><td>20</td><td>2</td><td>1999</td><td>1</td><td>  465</td><td>2667.9841</td><td>-0.4207321</td><td>2.43</td><td>⋯</td><td>0</td><td>1</td><td>5.776413</td><td>0</td><td>  0</td><td>0</td><td>0</td><td>male  </td><td>yes</td><td>black</td></tr>\n",
       "\t<tr><td>19551</td><td>56</td><td>15</td><td>1</td><td>1999</td><td>1</td><td>37432</td><td> 192.4926</td><td>-0.4207321</td><td>2.43</td><td>⋯</td><td>1</td><td>1</td><td>2.332144</td><td>1</td><td>101</td><td>1</td><td>0</td><td>male  </td><td>yes</td><td>white</td></tr>\n",
       "\t<tr><td>19553</td><td>56</td><td>20</td><td>1</td><td>1999</td><td>1</td><td>28879</td><td> 498.5172</td><td>-0.4207321</td><td>2.43</td><td>⋯</td><td>1</td><td>1</td><td>3.288402</td><td>0</td><td>  0</td><td>0</td><td>0</td><td>male  </td><td>yes</td><td>white</td></tr>\n",
       "\t<tr><td>19555</td><td>56</td><td>25</td><td>1</td><td>1999</td><td>2</td><td>25850</td><td> 448.3460</td><td>-0.4207321</td><td>2.43</td><td>⋯</td><td>1</td><td>0</td><td>2.772589</td><td>0</td><td>102</td><td>0</td><td>0</td><td>female</td><td>yes</td><td>white</td></tr>\n",
       "\t<tr><td>19556</td><td>56</td><td>30</td><td>1</td><td>1999</td><td>1</td><td>26091</td><td> 314.9176</td><td>-0.4207321</td><td>2.43</td><td>⋯</td><td>1</td><td>1</td><td>2.714695</td><td>0</td><td>  0</td><td>0</td><td>0</td><td>male  </td><td>yes</td><td>white</td></tr>\n",
       "\t<tr><td>19558</td><td>56</td><td>20</td><td>1</td><td>1999</td><td>2</td><td>28879</td><td> 498.5172</td><td>-0.4207321</td><td>2.43</td><td>⋯</td><td>1</td><td>0</td><td>3.761200</td><td>0</td><td>  0</td><td>0</td><td>0</td><td>female</td><td>yes</td><td>white</td></tr>\n",
       "\t<tr><td>19562</td><td>56</td><td>15</td><td>2</td><td>2000</td><td>1</td><td>  420</td><td>3798.4497</td><td> 0.1136283</td><td>2.46</td><td>⋯</td><td>0</td><td>1</td><td>6.028038</td><td>1</td><td>101</td><td>1</td><td>0</td><td>male  </td><td>yes</td><td>black</td></tr>\n",
       "\t<tr><td>19565</td><td>56</td><td>20</td><td>1</td><td>2000</td><td>1</td><td>29522</td><td> 515.5421</td><td> 0.1136283</td><td>2.46</td><td>⋯</td><td>1</td><td>1</td><td>2.564949</td><td>0</td><td>  0</td><td>0</td><td>0</td><td>male  </td><td>yes</td><td>white</td></tr>\n",
       "\t<tr><td>19566</td><td>56</td><td>20</td><td>2</td><td>2000</td><td>1</td><td>  495</td><td>2964.4268</td><td> 0.1136283</td><td>2.46</td><td>⋯</td><td>0</td><td>1</td><td>6.391917</td><td>0</td><td>  0</td><td>0</td><td>0</td><td>male  </td><td>yes</td><td>black</td></tr>\n",
       "\t<tr><td>19568</td><td>56</td><td>40</td><td>1</td><td>2000</td><td>1</td><td>38781</td><td> 129.3755</td><td> 0.1136283</td><td>2.46</td><td>⋯</td><td>1</td><td>1</td><td>1.629241</td><td>0</td><td>  0</td><td>0</td><td>0</td><td>male  </td><td>yes</td><td>white</td></tr>\n",
       "\t<tr><td>19570</td><td>56</td><td>20</td><td>1</td><td>2000</td><td>2</td><td>29522</td><td> 515.5421</td><td> 0.1136283</td><td>2.46</td><td>⋯</td><td>1</td><td>0</td><td>1.945910</td><td>0</td><td>  0</td><td>0</td><td>0</td><td>female</td><td>yes</td><td>white</td></tr>\n",
       "\t<tr><td>19571</td><td>56</td><td>25</td><td>1</td><td>2000</td><td>1</td><td>26100</td><td> 470.1260</td><td> 0.1136283</td><td>2.46</td><td>⋯</td><td>1</td><td>1</td><td>2.001480</td><td>0</td><td>102</td><td>0</td><td>0</td><td>male  </td><td>yes</td><td>white</td></tr>\n",
       "\t<tr><td>19573</td><td>56</td><td>30</td><td>1</td><td>2000</td><td>2</td><td>26371</td><td> 346.8596</td><td> 0.1136283</td><td>2.46</td><td>⋯</td><td>1</td><td>0</td><td>2.734367</td><td>0</td><td>  0</td><td>0</td><td>0</td><td>female</td><td>yes</td><td>white</td></tr>\n",
       "\t<tr><td>19575</td><td>56</td><td>20</td><td>2</td><td>2000</td><td>2</td><td>  495</td><td>2964.4268</td><td> 0.1136283</td><td>2.46</td><td>⋯</td><td>0</td><td>0</td><td>6.437752</td><td>0</td><td>  0</td><td>0</td><td>0</td><td>female</td><td>yes</td><td>black</td></tr>\n",
       "\t<tr><td>19577</td><td>56</td><td>15</td><td>2</td><td>2000</td><td>2</td><td>  420</td><td>3798.4497</td><td> 0.1136283</td><td>2.46</td><td>⋯</td><td>0</td><td>0</td><td>6.325613</td><td>1</td><td>101</td><td>1</td><td>1</td><td>female</td><td>yes</td><td>black</td></tr>\n",
       "\t<tr><td>19578</td><td>56</td><td>25</td><td>1</td><td>2000</td><td>2</td><td>26100</td><td> 470.1260</td><td> 0.1136283</td><td>2.46</td><td>⋯</td><td>1</td><td>0</td><td>3.169686</td><td>0</td><td>102</td><td>0</td><td>0</td><td>female</td><td>yes</td><td>white</td></tr>\n",
       "\t<tr><td>19579</td><td>56</td><td>15</td><td>1</td><td>2000</td><td>2</td><td>36639</td><td> 195.7975</td><td> 0.1136283</td><td>2.46</td><td>⋯</td><td>1</td><td>0</td><td>3.681351</td><td>1</td><td>101</td><td>1</td><td>0</td><td>female</td><td>yes</td><td>white</td></tr>\n",
       "\t<tr><td>19580</td><td>56</td><td>15</td><td>1</td><td>2000</td><td>1</td><td>36639</td><td> 195.7975</td><td> 0.1136283</td><td>2.46</td><td>⋯</td><td>1</td><td>1</td><td>1.667707</td><td>1</td><td>101</td><td>1</td><td>0</td><td>male  </td><td>yes</td><td>white</td></tr>\n",
       "\t<tr><td>19582</td><td>56</td><td>30</td><td>1</td><td>2000</td><td>1</td><td>26371</td><td> 346.8596</td><td> 0.1136283</td><td>2.46</td><td>⋯</td><td>1</td><td>1</td><td>2.701361</td><td>0</td><td>  0</td><td>0</td><td>0</td><td>male  </td><td>yes</td><td>white</td></tr>\n",
       "\t<tr><td>19583</td><td>56</td><td>35</td><td>1</td><td>2000</td><td>1</td><td>32562</td><td> 365.8763</td><td> 0.1136283</td><td>2.46</td><td>⋯</td><td>1</td><td>1</td><td>3.214868</td><td>0</td><td>  0</td><td>0</td><td>0</td><td>male  </td><td>yes</td><td>white</td></tr>\n",
       "</tbody>\n",
       "</table>\n"
      ],
      "text/latex": [
       "A data.table: 17921 × 25\n",
       "\\begin{tabular}{lllllllllllllllllllll}\n",
       " ...1 & fip & age & race & year & sex & totpop & ir & crack & alcohol & ⋯ & wht & male & lnr & younger & fa & pi & bf15 & gender & rest & eth\\\\\n",
       " <dbl> & <dbl> & <dbl> & <dbl> & <dbl> & <dbl> & <dbl> & <dbl> & <dbl> & <dbl> & ⋯ & <dbl> & <dbl> & <dbl> & <dbl> & <dbl> & <dbl> & <dbl> & <fct> & <fct> & <fct>\\\\\n",
       "\\hline\n",
       "\t  1 & 1 & 30 & 2 & 1985 & 1 &  78805 & 371.47580 & 0.2174378 & 1.9 & ⋯ & 0 & 1 & 7.880880 & 0 & 0 & 0 & 0 & male   & yes & black\\\\\n",
       "\t  2 & 1 & 15 & 1 & 1985 & 2 & 224003 &  51.38925 & 0.2174378 & 1.9 & ⋯ & 1 & 0 & 6.362165 & 1 & 1 & 0 & 0 & female & yes & white\\\\\n",
       "\t  3 & 1 & 20 & 2 & 1985 & 2 &  94113 & 390.87567 & 0.2174378 & 1.9 & ⋯ & 0 & 0 & 8.917793 & 0 & 0 & 0 & 0 & female & yes & black\\\\\n",
       "\t  4 & 1 & 20 & 1 & 1985 & 1 & 252076 & 100.83680 & 0.2174378 & 1.9 & ⋯ & 1 & 1 & 5.906995 & 0 & 0 & 0 & 0 & male   & yes & white\\\\\n",
       "\t  5 & 1 & 20 & 2 & 1985 & 1 &  94113 & 390.87567 & 0.2174378 & 1.9 & ⋯ & 0 & 1 & 9.072009 & 0 & 0 & 0 & 0 & male   & yes & black\\\\\n",
       "\t  6 & 1 & 40 & 2 & 1985 & 1 &  48527 & 199.46300 & 0.2174378 & 1.9 & ⋯ & 0 & 1 & 6.344056 & 0 & 0 & 0 & 0 & male   & yes & black\\\\\n",
       "\t  7 & 1 & 35 & 2 & 1985 & 2 &  68459 & 243.25624 & 0.2174378 & 1.9 & ⋯ & 0 & 0 & 6.135781 & 0 & 0 & 0 & 0 & female & yes & black\\\\\n",
       "\t  8 & 1 & 40 & 1 & 1985 & 2 & 177798 &  70.06068 & 0.2174378 & 1.9 & ⋯ & 1 & 0 & 2.740840 & 0 & 0 & 0 & 0 & female & yes & white\\\\\n",
       "\t  9 & 1 & 20 & 1 & 1985 & 2 & 252076 & 100.83680 & 0.2174378 & 1.9 & ⋯ & 1 & 0 & 6.480964 & 0 & 0 & 0 & 0 & female & yes & white\\\\\n",
       "\t 10 & 1 & 35 & 1 & 1985 & 2 & 203621 &  74.87242 & 0.2174378 & 1.9 & ⋯ & 1 & 0 & 3.691376 & 0 & 0 & 0 & 0 & female & yes & white\\\\\n",
       "\t 11 & 1 & 35 & 2 & 1985 & 1 &  68459 & 243.25624 & 0.2174378 & 1.9 & ⋯ & 0 & 1 & 7.156411 & 0 & 0 & 0 & 0 & male   & yes & black\\\\\n",
       "\t 12 & 1 & 30 & 2 & 1985 & 2 &  78805 & 371.47580 & 0.2174378 & 1.9 & ⋯ & 0 & 0 & 7.148503 & 0 & 0 & 0 & 0 & female & yes & black\\\\\n",
       "\t 13 & 1 & 40 & 2 & 1985 & 2 &  48527 & 199.46300 & 0.2174378 & 1.9 & ⋯ & 0 & 0 & 5.515443 & 0 & 0 & 0 & 0 & female & yes & black\\\\\n",
       "\t 14 & 1 & 25 & 2 & 1985 & 1 &  84353 & 513.94031 & 0.2174378 & 1.9 & ⋯ & 0 & 1 & 8.645217 & 0 & 2 & 0 & 0 & male   & yes & black\\\\\n",
       "\t 15 & 1 & 15 & 1 & 1985 & 1 & 224003 &  51.38925 & 0.2174378 & 1.9 & ⋯ & 1 & 1 & 5.277094 & 1 & 1 & 0 & 0 & male   & yes & white\\\\\n",
       "\t 16 & 1 & 25 & 1 & 1985 & 2 & 246472 &  95.24011 & 0.2174378 & 1.9 & ⋯ & 1 & 0 & 5.544787 & 0 & 2 & 0 & 0 & female & yes & white\\\\\n",
       "\t 17 & 1 & 40 & 1 & 1985 & 1 & 177798 &  70.06068 & 0.2174378 & 1.9 & ⋯ & 1 & 1 & 3.465736 & 0 & 0 & 0 & 0 & male   & yes & white\\\\\n",
       "\t 18 & 1 & 25 & 2 & 1985 & 2 &  84353 & 513.94031 & 0.2174378 & 1.9 & ⋯ & 0 & 0 & 8.268040 & 0 & 2 & 0 & 0 & female & yes & black\\\\\n",
       "\t 19 & 1 & 25 & 1 & 1985 & 1 & 246472 &  95.24011 & 0.2174378 & 1.9 & ⋯ & 1 & 1 & 5.467216 & 0 & 2 & 0 & 0 & male   & yes & white\\\\\n",
       "\t 20 & 1 & 15 & 2 & 1985 & 2 & 106187 & 100.62804 & 0.2174378 & 1.9 & ⋯ & 0 & 0 & 8.783779 & 1 & 1 & 0 & 1 & female & yes & black\\\\\n",
       "\t 21 & 1 & 30 & 1 & 1985 & 2 & 227226 & 102.52824 & 0.2174378 & 1.9 & ⋯ & 1 & 0 & 4.604170 & 0 & 0 & 0 & 0 & female & yes & white\\\\\n",
       "\t 22 & 1 & 35 & 1 & 1985 & 1 & 203621 &  74.87242 & 0.2174378 & 1.9 & ⋯ & 1 & 1 & 4.144721 & 0 & 0 & 0 & 0 & male   & yes & white\\\\\n",
       "\t 23 & 1 & 15 & 2 & 1985 & 1 & 106187 & 100.62804 & 0.2174378 & 1.9 & ⋯ & 0 & 1 & 8.331682 & 1 & 1 & 0 & 0 & male   & yes & black\\\\\n",
       "\t 24 & 1 & 30 & 1 & 1985 & 1 & 227226 & 102.52824 & 0.2174378 & 1.9 & ⋯ & 1 & 1 & 4.560173 & 0 & 0 & 0 & 0 & male   & yes & white\\\\\n",
       "\t 25 & 1 & 20 & 2 & 1986 & 2 &  91469 & 412.25961 & 0.2768753 & 1.9 & ⋯ & 0 & 0 & 8.873902 & 0 & 0 & 0 & 0 & female & yes & black\\\\\n",
       "\t 26 & 1 & 40 & 1 & 1986 & 1 & 180098 &  80.09454 & 0.2768753 & 1.9 & ⋯ & 1 & 1 & 3.377588 & 0 & 0 & 0 & 0 & male   & yes & white\\\\\n",
       "\t 27 & 1 & 15 & 2 & 1986 & 1 & 106831 & 111.85746 & 0.2768753 & 1.9 & ⋯ & 0 & 1 & 8.196685 & 1 & 1 & 0 & 0 & male   & yes & black\\\\\n",
       "\t 28 & 1 & 25 & 2 & 1986 & 2 &  84593 & 549.59875 & 0.2768753 & 1.9 & ⋯ & 0 & 0 & 8.039061 & 0 & 2 & 0 & 0 & female & yes & black\\\\\n",
       "\t 29 & 1 & 35 & 1 & 1986 & 1 & 214073 &  83.59454 & 0.2768753 & 1.9 & ⋯ & 1 & 1 & 3.763523 & 0 & 0 & 0 & 0 & male   & yes & white\\\\\n",
       "\t 30 & 1 & 35 & 1 & 1986 & 2 & 214073 &  83.59454 & 0.2768753 & 1.9 & ⋯ & 1 & 0 & 3.616309 & 0 & 0 & 0 & 0 & female & yes & white\\\\\n",
       "\t ⋮ & ⋮ & ⋮ & ⋮ & ⋮ & ⋮ & ⋮ & ⋮ & ⋮ & ⋮ & ⋱ & ⋮ & ⋮ & ⋮ & ⋮ & ⋮ & ⋮ & ⋮ & ⋮ & ⋮ & ⋮\\\\\n",
       "\t 19519 & 56 & 25 & 1 & 1998 & 1 & 25377 &  426.5659 & -0.8698689 & 2.40 & ⋯ & 1 & 1 & 2.028148 & 0 & 102 & 0 & 0 & male   & yes & white\\\\\n",
       "\t 19520 & 56 & 25 & 2 & 1998 & 2 &   341 & 2133.3335 & -0.8698689 & 2.40 & ⋯ & 0 & 0 & 6.660959 & 0 & 102 & 0 & 0 & female & yes & black\\\\\n",
       "\t 19522 & 56 & 15 & 1 & 1998 & 1 & 37863 &  189.1877 & -0.8698689 & 2.40 & ⋯ & 1 & 1 & 1.629241 & 1 & 101 & 1 & 0 & male   & yes & white\\\\\n",
       "\t 19524 & 56 & 30 & 1 & 1998 & 2 & 26918 &  282.9755 & -0.8698689 & 2.40 & ⋯ & 1 & 0 & 2.714695 & 0 &   0 & 0 & 0 & female & yes & white\\\\\n",
       "\t 19525 & 56 & 15 & 2 & 1998 & 1 &   408 & 3038.7598 & -0.8698689 & 2.40 & ⋯ & 0 & 1 & 6.015669 & 1 & 101 & 1 & 0 & male   & yes & black\\\\\n",
       "\t 19527 & 56 & 20 & 1 & 1998 & 1 & 29091 &  481.4924 & -0.8698689 & 2.40 & ⋯ & 1 & 1 & 2.580217 & 0 &   0 & 0 & 0 & male   & yes & white\\\\\n",
       "\t 19531 & 56 & 20 & 2 & 1998 & 1 &   497 & 2371.5415 & -0.8698689 & 2.40 & ⋯ & 0 & 1 & 5.660875 & 0 &   0 & 0 & 0 & male   & yes & black\\\\\n",
       "\t 19533 & 56 & 30 & 2 & 1998 & 2 &   244 & 2649.0066 & -0.8698689 & 2.40 & ⋯ & 0 & 0 & 6.917805 & 0 &   0 & 0 & 0 & female & yes & black\\\\\n",
       "\t 19535 & 56 & 25 & 1 & 1998 & 2 & 25377 &  426.5659 & -0.8698689 & 2.40 & ⋯ & 1 & 0 & 2.104134 & 0 & 102 & 0 & 0 & female & yes & white\\\\\n",
       "\t 19537 & 56 & 15 & 1 & 1999 & 2 & 37432 &  192.4926 & -0.4207321 & 2.43 & ⋯ & 1 & 0 & 3.325036 & 1 & 101 & 1 & 0 & female & yes & white\\\\\n",
       "\t 19543 & 56 & 20 & 2 & 1999 & 1 &   465 & 2667.9841 & -0.4207321 & 2.43 & ⋯ & 0 & 1 & 5.776413 & 0 &   0 & 0 & 0 & male   & yes & black\\\\\n",
       "\t 19551 & 56 & 15 & 1 & 1999 & 1 & 37432 &  192.4926 & -0.4207321 & 2.43 & ⋯ & 1 & 1 & 2.332144 & 1 & 101 & 1 & 0 & male   & yes & white\\\\\n",
       "\t 19553 & 56 & 20 & 1 & 1999 & 1 & 28879 &  498.5172 & -0.4207321 & 2.43 & ⋯ & 1 & 1 & 3.288402 & 0 &   0 & 0 & 0 & male   & yes & white\\\\\n",
       "\t 19555 & 56 & 25 & 1 & 1999 & 2 & 25850 &  448.3460 & -0.4207321 & 2.43 & ⋯ & 1 & 0 & 2.772589 & 0 & 102 & 0 & 0 & female & yes & white\\\\\n",
       "\t 19556 & 56 & 30 & 1 & 1999 & 1 & 26091 &  314.9176 & -0.4207321 & 2.43 & ⋯ & 1 & 1 & 2.714695 & 0 &   0 & 0 & 0 & male   & yes & white\\\\\n",
       "\t 19558 & 56 & 20 & 1 & 1999 & 2 & 28879 &  498.5172 & -0.4207321 & 2.43 & ⋯ & 1 & 0 & 3.761200 & 0 &   0 & 0 & 0 & female & yes & white\\\\\n",
       "\t 19562 & 56 & 15 & 2 & 2000 & 1 &   420 & 3798.4497 &  0.1136283 & 2.46 & ⋯ & 0 & 1 & 6.028038 & 1 & 101 & 1 & 0 & male   & yes & black\\\\\n",
       "\t 19565 & 56 & 20 & 1 & 2000 & 1 & 29522 &  515.5421 &  0.1136283 & 2.46 & ⋯ & 1 & 1 & 2.564949 & 0 &   0 & 0 & 0 & male   & yes & white\\\\\n",
       "\t 19566 & 56 & 20 & 2 & 2000 & 1 &   495 & 2964.4268 &  0.1136283 & 2.46 & ⋯ & 0 & 1 & 6.391917 & 0 &   0 & 0 & 0 & male   & yes & black\\\\\n",
       "\t 19568 & 56 & 40 & 1 & 2000 & 1 & 38781 &  129.3755 &  0.1136283 & 2.46 & ⋯ & 1 & 1 & 1.629241 & 0 &   0 & 0 & 0 & male   & yes & white\\\\\n",
       "\t 19570 & 56 & 20 & 1 & 2000 & 2 & 29522 &  515.5421 &  0.1136283 & 2.46 & ⋯ & 1 & 0 & 1.945910 & 0 &   0 & 0 & 0 & female & yes & white\\\\\n",
       "\t 19571 & 56 & 25 & 1 & 2000 & 1 & 26100 &  470.1260 &  0.1136283 & 2.46 & ⋯ & 1 & 1 & 2.001480 & 0 & 102 & 0 & 0 & male   & yes & white\\\\\n",
       "\t 19573 & 56 & 30 & 1 & 2000 & 2 & 26371 &  346.8596 &  0.1136283 & 2.46 & ⋯ & 1 & 0 & 2.734367 & 0 &   0 & 0 & 0 & female & yes & white\\\\\n",
       "\t 19575 & 56 & 20 & 2 & 2000 & 2 &   495 & 2964.4268 &  0.1136283 & 2.46 & ⋯ & 0 & 0 & 6.437752 & 0 &   0 & 0 & 0 & female & yes & black\\\\\n",
       "\t 19577 & 56 & 15 & 2 & 2000 & 2 &   420 & 3798.4497 &  0.1136283 & 2.46 & ⋯ & 0 & 0 & 6.325613 & 1 & 101 & 1 & 1 & female & yes & black\\\\\n",
       "\t 19578 & 56 & 25 & 1 & 2000 & 2 & 26100 &  470.1260 &  0.1136283 & 2.46 & ⋯ & 1 & 0 & 3.169686 & 0 & 102 & 0 & 0 & female & yes & white\\\\\n",
       "\t 19579 & 56 & 15 & 1 & 2000 & 2 & 36639 &  195.7975 &  0.1136283 & 2.46 & ⋯ & 1 & 0 & 3.681351 & 1 & 101 & 1 & 0 & female & yes & white\\\\\n",
       "\t 19580 & 56 & 15 & 1 & 2000 & 1 & 36639 &  195.7975 &  0.1136283 & 2.46 & ⋯ & 1 & 1 & 1.667707 & 1 & 101 & 1 & 0 & male   & yes & white\\\\\n",
       "\t 19582 & 56 & 30 & 1 & 2000 & 1 & 26371 &  346.8596 &  0.1136283 & 2.46 & ⋯ & 1 & 1 & 2.701361 & 0 &   0 & 0 & 0 & male   & yes & white\\\\\n",
       "\t 19583 & 56 & 35 & 1 & 2000 & 1 & 32562 &  365.8763 &  0.1136283 & 2.46 & ⋯ & 1 & 1 & 3.214868 & 0 &   0 & 0 & 0 & male   & yes & white\\\\\n",
       "\\end{tabular}\n"
      ],
      "text/markdown": [
       "\n",
       "A data.table: 17921 × 25\n",
       "\n",
       "| ...1 &lt;dbl&gt; | fip &lt;dbl&gt; | age &lt;dbl&gt; | race &lt;dbl&gt; | year &lt;dbl&gt; | sex &lt;dbl&gt; | totpop &lt;dbl&gt; | ir &lt;dbl&gt; | crack &lt;dbl&gt; | alcohol &lt;dbl&gt; | ⋯ ⋯ | wht &lt;dbl&gt; | male &lt;dbl&gt; | lnr &lt;dbl&gt; | younger &lt;dbl&gt; | fa &lt;dbl&gt; | pi &lt;dbl&gt; | bf15 &lt;dbl&gt; | gender &lt;fct&gt; | rest &lt;fct&gt; | eth &lt;fct&gt; |\n",
       "|---|---|---|---|---|---|---|---|---|---|---|---|---|---|---|---|---|---|---|---|---|\n",
       "|  1 | 1 | 30 | 2 | 1985 | 1 |  78805 | 371.47580 | 0.2174378 | 1.9 | ⋯ | 0 | 1 | 7.880880 | 0 | 0 | 0 | 0 | male   | yes | black |\n",
       "|  2 | 1 | 15 | 1 | 1985 | 2 | 224003 |  51.38925 | 0.2174378 | 1.9 | ⋯ | 1 | 0 | 6.362165 | 1 | 1 | 0 | 0 | female | yes | white |\n",
       "|  3 | 1 | 20 | 2 | 1985 | 2 |  94113 | 390.87567 | 0.2174378 | 1.9 | ⋯ | 0 | 0 | 8.917793 | 0 | 0 | 0 | 0 | female | yes | black |\n",
       "|  4 | 1 | 20 | 1 | 1985 | 1 | 252076 | 100.83680 | 0.2174378 | 1.9 | ⋯ | 1 | 1 | 5.906995 | 0 | 0 | 0 | 0 | male   | yes | white |\n",
       "|  5 | 1 | 20 | 2 | 1985 | 1 |  94113 | 390.87567 | 0.2174378 | 1.9 | ⋯ | 0 | 1 | 9.072009 | 0 | 0 | 0 | 0 | male   | yes | black |\n",
       "|  6 | 1 | 40 | 2 | 1985 | 1 |  48527 | 199.46300 | 0.2174378 | 1.9 | ⋯ | 0 | 1 | 6.344056 | 0 | 0 | 0 | 0 | male   | yes | black |\n",
       "|  7 | 1 | 35 | 2 | 1985 | 2 |  68459 | 243.25624 | 0.2174378 | 1.9 | ⋯ | 0 | 0 | 6.135781 | 0 | 0 | 0 | 0 | female | yes | black |\n",
       "|  8 | 1 | 40 | 1 | 1985 | 2 | 177798 |  70.06068 | 0.2174378 | 1.9 | ⋯ | 1 | 0 | 2.740840 | 0 | 0 | 0 | 0 | female | yes | white |\n",
       "|  9 | 1 | 20 | 1 | 1985 | 2 | 252076 | 100.83680 | 0.2174378 | 1.9 | ⋯ | 1 | 0 | 6.480964 | 0 | 0 | 0 | 0 | female | yes | white |\n",
       "| 10 | 1 | 35 | 1 | 1985 | 2 | 203621 |  74.87242 | 0.2174378 | 1.9 | ⋯ | 1 | 0 | 3.691376 | 0 | 0 | 0 | 0 | female | yes | white |\n",
       "| 11 | 1 | 35 | 2 | 1985 | 1 |  68459 | 243.25624 | 0.2174378 | 1.9 | ⋯ | 0 | 1 | 7.156411 | 0 | 0 | 0 | 0 | male   | yes | black |\n",
       "| 12 | 1 | 30 | 2 | 1985 | 2 |  78805 | 371.47580 | 0.2174378 | 1.9 | ⋯ | 0 | 0 | 7.148503 | 0 | 0 | 0 | 0 | female | yes | black |\n",
       "| 13 | 1 | 40 | 2 | 1985 | 2 |  48527 | 199.46300 | 0.2174378 | 1.9 | ⋯ | 0 | 0 | 5.515443 | 0 | 0 | 0 | 0 | female | yes | black |\n",
       "| 14 | 1 | 25 | 2 | 1985 | 1 |  84353 | 513.94031 | 0.2174378 | 1.9 | ⋯ | 0 | 1 | 8.645217 | 0 | 2 | 0 | 0 | male   | yes | black |\n",
       "| 15 | 1 | 15 | 1 | 1985 | 1 | 224003 |  51.38925 | 0.2174378 | 1.9 | ⋯ | 1 | 1 | 5.277094 | 1 | 1 | 0 | 0 | male   | yes | white |\n",
       "| 16 | 1 | 25 | 1 | 1985 | 2 | 246472 |  95.24011 | 0.2174378 | 1.9 | ⋯ | 1 | 0 | 5.544787 | 0 | 2 | 0 | 0 | female | yes | white |\n",
       "| 17 | 1 | 40 | 1 | 1985 | 1 | 177798 |  70.06068 | 0.2174378 | 1.9 | ⋯ | 1 | 1 | 3.465736 | 0 | 0 | 0 | 0 | male   | yes | white |\n",
       "| 18 | 1 | 25 | 2 | 1985 | 2 |  84353 | 513.94031 | 0.2174378 | 1.9 | ⋯ | 0 | 0 | 8.268040 | 0 | 2 | 0 | 0 | female | yes | black |\n",
       "| 19 | 1 | 25 | 1 | 1985 | 1 | 246472 |  95.24011 | 0.2174378 | 1.9 | ⋯ | 1 | 1 | 5.467216 | 0 | 2 | 0 | 0 | male   | yes | white |\n",
       "| 20 | 1 | 15 | 2 | 1985 | 2 | 106187 | 100.62804 | 0.2174378 | 1.9 | ⋯ | 0 | 0 | 8.783779 | 1 | 1 | 0 | 1 | female | yes | black |\n",
       "| 21 | 1 | 30 | 1 | 1985 | 2 | 227226 | 102.52824 | 0.2174378 | 1.9 | ⋯ | 1 | 0 | 4.604170 | 0 | 0 | 0 | 0 | female | yes | white |\n",
       "| 22 | 1 | 35 | 1 | 1985 | 1 | 203621 |  74.87242 | 0.2174378 | 1.9 | ⋯ | 1 | 1 | 4.144721 | 0 | 0 | 0 | 0 | male   | yes | white |\n",
       "| 23 | 1 | 15 | 2 | 1985 | 1 | 106187 | 100.62804 | 0.2174378 | 1.9 | ⋯ | 0 | 1 | 8.331682 | 1 | 1 | 0 | 0 | male   | yes | black |\n",
       "| 24 | 1 | 30 | 1 | 1985 | 1 | 227226 | 102.52824 | 0.2174378 | 1.9 | ⋯ | 1 | 1 | 4.560173 | 0 | 0 | 0 | 0 | male   | yes | white |\n",
       "| 25 | 1 | 20 | 2 | 1986 | 2 |  91469 | 412.25961 | 0.2768753 | 1.9 | ⋯ | 0 | 0 | 8.873902 | 0 | 0 | 0 | 0 | female | yes | black |\n",
       "| 26 | 1 | 40 | 1 | 1986 | 1 | 180098 |  80.09454 | 0.2768753 | 1.9 | ⋯ | 1 | 1 | 3.377588 | 0 | 0 | 0 | 0 | male   | yes | white |\n",
       "| 27 | 1 | 15 | 2 | 1986 | 1 | 106831 | 111.85746 | 0.2768753 | 1.9 | ⋯ | 0 | 1 | 8.196685 | 1 | 1 | 0 | 0 | male   | yes | black |\n",
       "| 28 | 1 | 25 | 2 | 1986 | 2 |  84593 | 549.59875 | 0.2768753 | 1.9 | ⋯ | 0 | 0 | 8.039061 | 0 | 2 | 0 | 0 | female | yes | black |\n",
       "| 29 | 1 | 35 | 1 | 1986 | 1 | 214073 |  83.59454 | 0.2768753 | 1.9 | ⋯ | 1 | 1 | 3.763523 | 0 | 0 | 0 | 0 | male   | yes | white |\n",
       "| 30 | 1 | 35 | 1 | 1986 | 2 | 214073 |  83.59454 | 0.2768753 | 1.9 | ⋯ | 1 | 0 | 3.616309 | 0 | 0 | 0 | 0 | female | yes | white |\n",
       "| ⋮ | ⋮ | ⋮ | ⋮ | ⋮ | ⋮ | ⋮ | ⋮ | ⋮ | ⋮ | ⋱ | ⋮ | ⋮ | ⋮ | ⋮ | ⋮ | ⋮ | ⋮ | ⋮ | ⋮ | ⋮ |\n",
       "| 19519 | 56 | 25 | 1 | 1998 | 1 | 25377 |  426.5659 | -0.8698689 | 2.40 | ⋯ | 1 | 1 | 2.028148 | 0 | 102 | 0 | 0 | male   | yes | white |\n",
       "| 19520 | 56 | 25 | 2 | 1998 | 2 |   341 | 2133.3335 | -0.8698689 | 2.40 | ⋯ | 0 | 0 | 6.660959 | 0 | 102 | 0 | 0 | female | yes | black |\n",
       "| 19522 | 56 | 15 | 1 | 1998 | 1 | 37863 |  189.1877 | -0.8698689 | 2.40 | ⋯ | 1 | 1 | 1.629241 | 1 | 101 | 1 | 0 | male   | yes | white |\n",
       "| 19524 | 56 | 30 | 1 | 1998 | 2 | 26918 |  282.9755 | -0.8698689 | 2.40 | ⋯ | 1 | 0 | 2.714695 | 0 |   0 | 0 | 0 | female | yes | white |\n",
       "| 19525 | 56 | 15 | 2 | 1998 | 1 |   408 | 3038.7598 | -0.8698689 | 2.40 | ⋯ | 0 | 1 | 6.015669 | 1 | 101 | 1 | 0 | male   | yes | black |\n",
       "| 19527 | 56 | 20 | 1 | 1998 | 1 | 29091 |  481.4924 | -0.8698689 | 2.40 | ⋯ | 1 | 1 | 2.580217 | 0 |   0 | 0 | 0 | male   | yes | white |\n",
       "| 19531 | 56 | 20 | 2 | 1998 | 1 |   497 | 2371.5415 | -0.8698689 | 2.40 | ⋯ | 0 | 1 | 5.660875 | 0 |   0 | 0 | 0 | male   | yes | black |\n",
       "| 19533 | 56 | 30 | 2 | 1998 | 2 |   244 | 2649.0066 | -0.8698689 | 2.40 | ⋯ | 0 | 0 | 6.917805 | 0 |   0 | 0 | 0 | female | yes | black |\n",
       "| 19535 | 56 | 25 | 1 | 1998 | 2 | 25377 |  426.5659 | -0.8698689 | 2.40 | ⋯ | 1 | 0 | 2.104134 | 0 | 102 | 0 | 0 | female | yes | white |\n",
       "| 19537 | 56 | 15 | 1 | 1999 | 2 | 37432 |  192.4926 | -0.4207321 | 2.43 | ⋯ | 1 | 0 | 3.325036 | 1 | 101 | 1 | 0 | female | yes | white |\n",
       "| 19543 | 56 | 20 | 2 | 1999 | 1 |   465 | 2667.9841 | -0.4207321 | 2.43 | ⋯ | 0 | 1 | 5.776413 | 0 |   0 | 0 | 0 | male   | yes | black |\n",
       "| 19551 | 56 | 15 | 1 | 1999 | 1 | 37432 |  192.4926 | -0.4207321 | 2.43 | ⋯ | 1 | 1 | 2.332144 | 1 | 101 | 1 | 0 | male   | yes | white |\n",
       "| 19553 | 56 | 20 | 1 | 1999 | 1 | 28879 |  498.5172 | -0.4207321 | 2.43 | ⋯ | 1 | 1 | 3.288402 | 0 |   0 | 0 | 0 | male   | yes | white |\n",
       "| 19555 | 56 | 25 | 1 | 1999 | 2 | 25850 |  448.3460 | -0.4207321 | 2.43 | ⋯ | 1 | 0 | 2.772589 | 0 | 102 | 0 | 0 | female | yes | white |\n",
       "| 19556 | 56 | 30 | 1 | 1999 | 1 | 26091 |  314.9176 | -0.4207321 | 2.43 | ⋯ | 1 | 1 | 2.714695 | 0 |   0 | 0 | 0 | male   | yes | white |\n",
       "| 19558 | 56 | 20 | 1 | 1999 | 2 | 28879 |  498.5172 | -0.4207321 | 2.43 | ⋯ | 1 | 0 | 3.761200 | 0 |   0 | 0 | 0 | female | yes | white |\n",
       "| 19562 | 56 | 15 | 2 | 2000 | 1 |   420 | 3798.4497 |  0.1136283 | 2.46 | ⋯ | 0 | 1 | 6.028038 | 1 | 101 | 1 | 0 | male   | yes | black |\n",
       "| 19565 | 56 | 20 | 1 | 2000 | 1 | 29522 |  515.5421 |  0.1136283 | 2.46 | ⋯ | 1 | 1 | 2.564949 | 0 |   0 | 0 | 0 | male   | yes | white |\n",
       "| 19566 | 56 | 20 | 2 | 2000 | 1 |   495 | 2964.4268 |  0.1136283 | 2.46 | ⋯ | 0 | 1 | 6.391917 | 0 |   0 | 0 | 0 | male   | yes | black |\n",
       "| 19568 | 56 | 40 | 1 | 2000 | 1 | 38781 |  129.3755 |  0.1136283 | 2.46 | ⋯ | 1 | 1 | 1.629241 | 0 |   0 | 0 | 0 | male   | yes | white |\n",
       "| 19570 | 56 | 20 | 1 | 2000 | 2 | 29522 |  515.5421 |  0.1136283 | 2.46 | ⋯ | 1 | 0 | 1.945910 | 0 |   0 | 0 | 0 | female | yes | white |\n",
       "| 19571 | 56 | 25 | 1 | 2000 | 1 | 26100 |  470.1260 |  0.1136283 | 2.46 | ⋯ | 1 | 1 | 2.001480 | 0 | 102 | 0 | 0 | male   | yes | white |\n",
       "| 19573 | 56 | 30 | 1 | 2000 | 2 | 26371 |  346.8596 |  0.1136283 | 2.46 | ⋯ | 1 | 0 | 2.734367 | 0 |   0 | 0 | 0 | female | yes | white |\n",
       "| 19575 | 56 | 20 | 2 | 2000 | 2 |   495 | 2964.4268 |  0.1136283 | 2.46 | ⋯ | 0 | 0 | 6.437752 | 0 |   0 | 0 | 0 | female | yes | black |\n",
       "| 19577 | 56 | 15 | 2 | 2000 | 2 |   420 | 3798.4497 |  0.1136283 | 2.46 | ⋯ | 0 | 0 | 6.325613 | 1 | 101 | 1 | 1 | female | yes | black |\n",
       "| 19578 | 56 | 25 | 1 | 2000 | 2 | 26100 |  470.1260 |  0.1136283 | 2.46 | ⋯ | 1 | 0 | 3.169686 | 0 | 102 | 0 | 0 | female | yes | white |\n",
       "| 19579 | 56 | 15 | 1 | 2000 | 2 | 36639 |  195.7975 |  0.1136283 | 2.46 | ⋯ | 1 | 0 | 3.681351 | 1 | 101 | 1 | 0 | female | yes | white |\n",
       "| 19580 | 56 | 15 | 1 | 2000 | 1 | 36639 |  195.7975 |  0.1136283 | 2.46 | ⋯ | 1 | 1 | 1.667707 | 1 | 101 | 1 | 0 | male   | yes | white |\n",
       "| 19582 | 56 | 30 | 1 | 2000 | 1 | 26371 |  346.8596 |  0.1136283 | 2.46 | ⋯ | 1 | 1 | 2.701361 | 0 |   0 | 0 | 0 | male   | yes | white |\n",
       "| 19583 | 56 | 35 | 1 | 2000 | 1 | 32562 |  365.8763 |  0.1136283 | 2.46 | ⋯ | 1 | 1 | 3.214868 | 0 |   0 | 0 | 0 | male   | yes | white |\n",
       "\n"
      ],
      "text/plain": [
       "      ...1  fip age race year sex totpop ir        crack      alcohol <U+22EF>       \n",
       "1      1    1   30  2    1985 1    78805 371.47580 0.2174378  1.9     <U+22EF>\n",
       "2      2    1   15  1    1985 2   224003  51.38925 0.2174378  1.9     <U+22EF>\n",
       "3      3    1   20  2    1985 2    94113 390.87567 0.2174378  1.9     <U+22EF>\n",
       "4      4    1   20  1    1985 1   252076 100.83680 0.2174378  1.9     <U+22EF>\n",
       "5      5    1   20  2    1985 1    94113 390.87567 0.2174378  1.9     <U+22EF>\n",
       "6      6    1   40  2    1985 1    48527 199.46300 0.2174378  1.9     <U+22EF>\n",
       "7      7    1   35  2    1985 2    68459 243.25624 0.2174378  1.9     <U+22EF>\n",
       "8      8    1   40  1    1985 2   177798  70.06068 0.2174378  1.9     <U+22EF>\n",
       "9      9    1   20  1    1985 2   252076 100.83680 0.2174378  1.9     <U+22EF>\n",
       "10    10    1   35  1    1985 2   203621  74.87242 0.2174378  1.9     <U+22EF>\n",
       "11    11    1   35  2    1985 1    68459 243.25624 0.2174378  1.9     <U+22EF>\n",
       "12    12    1   30  2    1985 2    78805 371.47580 0.2174378  1.9     <U+22EF>\n",
       "13    13    1   40  2    1985 2    48527 199.46300 0.2174378  1.9     <U+22EF>\n",
       "14    14    1   25  2    1985 1    84353 513.94031 0.2174378  1.9     <U+22EF>\n",
       "15    15    1   15  1    1985 1   224003  51.38925 0.2174378  1.9     <U+22EF>\n",
       "16    16    1   25  1    1985 2   246472  95.24011 0.2174378  1.9     <U+22EF>\n",
       "17    17    1   40  1    1985 1   177798  70.06068 0.2174378  1.9     <U+22EF>\n",
       "18    18    1   25  2    1985 2    84353 513.94031 0.2174378  1.9     <U+22EF>\n",
       "19    19    1   25  1    1985 1   246472  95.24011 0.2174378  1.9     <U+22EF>\n",
       "20    20    1   15  2    1985 2   106187 100.62804 0.2174378  1.9     <U+22EF>\n",
       "21    21    1   30  1    1985 2   227226 102.52824 0.2174378  1.9     <U+22EF>\n",
       "22    22    1   35  1    1985 1   203621  74.87242 0.2174378  1.9     <U+22EF>\n",
       "23    23    1   15  2    1985 1   106187 100.62804 0.2174378  1.9     <U+22EF>\n",
       "24    24    1   30  1    1985 1   227226 102.52824 0.2174378  1.9     <U+22EF>\n",
       "25    25    1   20  2    1986 2    91469 412.25961 0.2768753  1.9     <U+22EF>\n",
       "26    26    1   40  1    1986 1   180098  80.09454 0.2768753  1.9     <U+22EF>\n",
       "27    27    1   15  2    1986 1   106831 111.85746 0.2768753  1.9     <U+22EF>\n",
       "28    28    1   25  2    1986 2    84593 549.59875 0.2768753  1.9     <U+22EF>\n",
       "29    29    1   35  1    1986 1   214073  83.59454 0.2768753  1.9     <U+22EF>\n",
       "30    30    1   35  1    1986 2   214073  83.59454 0.2768753  1.9     <U+22EF>\n",
       "<U+22EE>     <U+22EE> <U+22EE> <U+22EE> <U+22EE> <U+22EE> <U+22EE> <U+22EE> <U+22EE>  <U+22EE>   <U+22EE> <U+22F1>\n",
       "17892 19519 56  25  1    1998 1   25377   426.5659 -0.8698689 2.40    <U+22EF>\n",
       "17893 19520 56  25  2    1998 2     341  2133.3335 -0.8698689 2.40    <U+22EF>\n",
       "17894 19522 56  15  1    1998 1   37863   189.1877 -0.8698689 2.40    <U+22EF>\n",
       "17895 19524 56  30  1    1998 2   26918   282.9755 -0.8698689 2.40    <U+22EF>\n",
       "17896 19525 56  15  2    1998 1     408  3038.7598 -0.8698689 2.40    <U+22EF>\n",
       "17897 19527 56  20  1    1998 1   29091   481.4924 -0.8698689 2.40    <U+22EF>\n",
       "17898 19531 56  20  2    1998 1     497  2371.5415 -0.8698689 2.40    <U+22EF>\n",
       "17899 19533 56  30  2    1998 2     244  2649.0066 -0.8698689 2.40    <U+22EF>\n",
       "17900 19535 56  25  1    1998 2   25377   426.5659 -0.8698689 2.40    <U+22EF>\n",
       "17901 19537 56  15  1    1999 2   37432   192.4926 -0.4207321 2.43    <U+22EF>\n",
       "17902 19543 56  20  2    1999 1     465  2667.9841 -0.4207321 2.43    <U+22EF>\n",
       "17903 19551 56  15  1    1999 1   37432   192.4926 -0.4207321 2.43    <U+22EF>\n",
       "17904 19553 56  20  1    1999 1   28879   498.5172 -0.4207321 2.43    <U+22EF>\n",
       "17905 19555 56  25  1    1999 2   25850   448.3460 -0.4207321 2.43    <U+22EF>\n",
       "17906 19556 56  30  1    1999 1   26091   314.9176 -0.4207321 2.43    <U+22EF>\n",
       "17907 19558 56  20  1    1999 2   28879   498.5172 -0.4207321 2.43    <U+22EF>\n",
       "17908 19562 56  15  2    2000 1     420  3798.4497  0.1136283 2.46    <U+22EF>\n",
       "17909 19565 56  20  1    2000 1   29522   515.5421  0.1136283 2.46    <U+22EF>\n",
       "17910 19566 56  20  2    2000 1     495  2964.4268  0.1136283 2.46    <U+22EF>\n",
       "17911 19568 56  40  1    2000 1   38781   129.3755  0.1136283 2.46    <U+22EF>\n",
       "17912 19570 56  20  1    2000 2   29522   515.5421  0.1136283 2.46    <U+22EF>\n",
       "17913 19571 56  25  1    2000 1   26100   470.1260  0.1136283 2.46    <U+22EF>\n",
       "17914 19573 56  30  1    2000 2   26371   346.8596  0.1136283 2.46    <U+22EF>\n",
       "17915 19575 56  20  2    2000 2     495  2964.4268  0.1136283 2.46    <U+22EF>\n",
       "17916 19577 56  15  2    2000 2     420  3798.4497  0.1136283 2.46    <U+22EF>\n",
       "17917 19578 56  25  1    2000 2   26100   470.1260  0.1136283 2.46    <U+22EF>\n",
       "17918 19579 56  15  1    2000 2   36639   195.7975  0.1136283 2.46    <U+22EF>\n",
       "17919 19580 56  15  1    2000 1   36639   195.7975  0.1136283 2.46    <U+22EF>\n",
       "17920 19582 56  30  1    2000 1   26371   346.8596  0.1136283 2.46    <U+22EF>\n",
       "17921 19583 56  35  1    2000 1   32562   365.8763  0.1136283 2.46    <U+22EF>\n",
       "      wht male lnr      younger fa  pi bf15 gender rest eth  \n",
       "1     0   1    7.880880 0       0   0  0    male   yes  black\n",
       "2     1   0    6.362165 1       1   0  0    female yes  white\n",
       "3     0   0    8.917793 0       0   0  0    female yes  black\n",
       "4     1   1    5.906995 0       0   0  0    male   yes  white\n",
       "5     0   1    9.072009 0       0   0  0    male   yes  black\n",
       "6     0   1    6.344056 0       0   0  0    male   yes  black\n",
       "7     0   0    6.135781 0       0   0  0    female yes  black\n",
       "8     1   0    2.740840 0       0   0  0    female yes  white\n",
       "9     1   0    6.480964 0       0   0  0    female yes  white\n",
       "10    1   0    3.691376 0       0   0  0    female yes  white\n",
       "11    0   1    7.156411 0       0   0  0    male   yes  black\n",
       "12    0   0    7.148503 0       0   0  0    female yes  black\n",
       "13    0   0    5.515443 0       0   0  0    female yes  black\n",
       "14    0   1    8.645217 0       2   0  0    male   yes  black\n",
       "15    1   1    5.277094 1       1   0  0    male   yes  white\n",
       "16    1   0    5.544787 0       2   0  0    female yes  white\n",
       "17    1   1    3.465736 0       0   0  0    male   yes  white\n",
       "18    0   0    8.268040 0       2   0  0    female yes  black\n",
       "19    1   1    5.467216 0       2   0  0    male   yes  white\n",
       "20    0   0    8.783779 1       1   0  1    female yes  black\n",
       "21    1   0    4.604170 0       0   0  0    female yes  white\n",
       "22    1   1    4.144721 0       0   0  0    male   yes  white\n",
       "23    0   1    8.331682 1       1   0  0    male   yes  black\n",
       "24    1   1    4.560173 0       0   0  0    male   yes  white\n",
       "25    0   0    8.873902 0       0   0  0    female yes  black\n",
       "26    1   1    3.377588 0       0   0  0    male   yes  white\n",
       "27    0   1    8.196685 1       1   0  0    male   yes  black\n",
       "28    0   0    8.039061 0       2   0  0    female yes  black\n",
       "29    1   1    3.763523 0       0   0  0    male   yes  white\n",
       "30    1   0    3.616309 0       0   0  0    female yes  white\n",
       "<U+22EE>     <U+22EE> <U+22EE> <U+22EE> <U+22EE> <U+22EE> <U+22EE> <U+22EE> <U+22EE> <U+22EE> <U+22EE>\n",
       "17892 1   1    2.028148 0       102 0  0    male   yes  white\n",
       "17893 0   0    6.660959 0       102 0  0    female yes  black\n",
       "17894 1   1    1.629241 1       101 1  0    male   yes  white\n",
       "17895 1   0    2.714695 0         0 0  0    female yes  white\n",
       "17896 0   1    6.015669 1       101 1  0    male   yes  black\n",
       "17897 1   1    2.580217 0         0 0  0    male   yes  white\n",
       "17898 0   1    5.660875 0         0 0  0    male   yes  black\n",
       "17899 0   0    6.917805 0         0 0  0    female yes  black\n",
       "17900 1   0    2.104134 0       102 0  0    female yes  white\n",
       "17901 1   0    3.325036 1       101 1  0    female yes  white\n",
       "17902 0   1    5.776413 0         0 0  0    male   yes  black\n",
       "17903 1   1    2.332144 1       101 1  0    male   yes  white\n",
       "17904 1   1    3.288402 0         0 0  0    male   yes  white\n",
       "17905 1   0    2.772589 0       102 0  0    female yes  white\n",
       "17906 1   1    2.714695 0         0 0  0    male   yes  white\n",
       "17907 1   0    3.761200 0         0 0  0    female yes  white\n",
       "17908 0   1    6.028038 1       101 1  0    male   yes  black\n",
       "17909 1   1    2.564949 0         0 0  0    male   yes  white\n",
       "17910 0   1    6.391917 0         0 0  0    male   yes  black\n",
       "17911 1   1    1.629241 0         0 0  0    male   yes  white\n",
       "17912 1   0    1.945910 0         0 0  0    female yes  white\n",
       "17913 1   1    2.001480 0       102 0  0    male   yes  white\n",
       "17914 1   0    2.734367 0         0 0  0    female yes  white\n",
       "17915 0   0    6.437752 0         0 0  0    female yes  black\n",
       "17916 0   0    6.325613 1       101 1  1    female yes  black\n",
       "17917 1   0    3.169686 0       102 0  0    female yes  white\n",
       "17918 1   0    3.681351 1       101 1  0    female yes  white\n",
       "17919 1   1    1.667707 1       101 1  0    male   yes  white\n",
       "17920 1   1    2.701361 0         0 0  0    male   yes  white\n",
       "17921 1   1    3.214868 0         0 0  0    male   yes  white"
      ]
     },
     "metadata": {},
     "output_type": "display_data"
    }
   ],
   "source": [
    "df"
   ]
  },
  {
   "cell_type": "markdown",
   "id": "cca1e67f",
   "metadata": {},
   "source": [
    "## ACC (AIDS mortality per 100,000 cumulative in t, t-1, t-2, t-3) analysis. We will do bootstrap for mean estimation"
   ]
  },
  {
   "cell_type": "code",
   "execution_count": 46,
   "id": "01db2a55",
   "metadata": {},
   "outputs": [],
   "source": [
    "df = df[!is.na(acc),,]"
   ]
  },
  {
   "cell_type": "code",
   "execution_count": 47,
   "id": "f6b38635",
   "metadata": {},
   "outputs": [],
   "source": [
    "boot_method = function(X, Y, weights_x, weights_y, B, alpha){\n",
    "    n_x = length(X)\n",
    "    n_y = length(Y)\n",
    "    est = mean(X) / mean(Y)\n",
    "    mhat.boot = numeric(B)\n",
    "    for(j in 1:B){\n",
    "        X.boot = sample(X, n_x, replace = TRUE)\n",
    "        Y.boot = sample(Y, n_y, replace = TRUE)\n",
    "        mhat.boot[j] = (sum(X.boot*weights_x)/sum(weights_x))/(sum(Y.boot*weights_y)/sum(weights_y))\n",
    "    }\n",
    "    std.boot = sd(mhat.boot)\n",
    "    res = matrix(0, nrow = 3, ncol = 3)\n",
    "    res[1,] = c(quantile(mhat.boot, alpha/2, names=FALSE), est,  quantile(mhat.boot, 1 - alpha/2, names = FALSE))\n",
    "    res[2,] = c(2*est - quantile(mhat.boot, 1 - alpha/2, , names=FALSE),est, 2*est - quantile(mhat.boot, alpha/2, names=FALSE))\n",
    "    res[3,] = c(est + qnorm(alpha/2)*std.boot,est, est + qnorm(1 - alpha/2)*std.boot)\n",
    "    return(res)\n",
    "}"
   ]
  },
  {
   "cell_type": "code",
   "execution_count": 48,
   "id": "31fdb863",
   "metadata": {},
   "outputs": [],
   "source": [
    "males = df[gender == \"male\",,]\n",
    "females = df[gender == \"female\",,]"
   ]
  },
  {
   "cell_type": "code",
   "execution_count": 49,
   "id": "31610b50",
   "metadata": {},
   "outputs": [],
   "source": [
    "result0 = data.frame()\n",
    "result0 = result0 %>% add_column(method = character(0))\n",
    "result0 = result0 %>% add_column(lower_bound = numeric(0))\n",
    "result0 = result0 %>% add_column(estimate = numeric(0))\n",
    "result0 = result0 %>% add_column(upper_bound = numeric(0))"
   ]
  },
  {
   "cell_type": "code",
   "execution_count": 50,
   "id": "c4f61823",
   "metadata": {},
   "outputs": [],
   "source": [
    "values = boot_method(males$acc, females$acc, males$totpop, females$totpop, 100, 0.05)"
   ]
  },
  {
   "cell_type": "code",
   "execution_count": 51,
   "id": "3a371b6d",
   "metadata": {},
   "outputs": [],
   "source": [
    "result0 = result0 %>% add_row(method = c(\"boot_meth1\", \"boot_meth2\", \"boot_meth3\"), lower_bound = values[,1], \n",
    "                            estimate = values[,2], \n",
    "                            upper_bound = values[,3])"
   ]
  },
  {
   "cell_type": "code",
   "execution_count": 52,
   "id": "2721b670",
   "metadata": {},
   "outputs": [
    {
     "name": "stdout",
     "output_type": "stream",
     "text": [
      "      method lower_bound estimate upper_bound\n",
      "1 boot_meth1   0.9502788  1.00932    1.076694\n",
      "2 boot_meth2   0.9419454  1.00932    1.068360\n",
      "3 boot_meth3   0.9415159  1.00932    1.077123\n"
     ]
    }
   ],
   "source": [
    "print(result0)"
   ]
  },
  {
   "cell_type": "code",
   "execution_count": 53,
   "id": "291b73a3",
   "metadata": {},
   "outputs": [],
   "source": [
    "Cauc_ame = df[eth == \"white\",,]\n",
    "Afr_ame = df[eth == \"black\",,]"
   ]
  },
  {
   "cell_type": "code",
   "execution_count": 54,
   "id": "7057babf",
   "metadata": {},
   "outputs": [],
   "source": [
    "result1 = data.frame()\n",
    "result1 = result1 %>% add_column(method = character(0))\n",
    "result1 = result1 %>% add_column(lower_bound = numeric(0))\n",
    "result1 = result1 %>% add_column(mean_estimate = numeric(0))\n",
    "result1 = result1 %>% add_column(upper_bound = numeric(0))"
   ]
  },
  {
   "cell_type": "code",
   "execution_count": 55,
   "id": "2294ed00",
   "metadata": {},
   "outputs": [],
   "source": [
    "values = boot_method(Cauc_ame$acc, Afr_ame$acc, Cauc_ame$totpop, Afr_ame$totpop, 100, 0.05)"
   ]
  },
  {
   "cell_type": "code",
   "execution_count": 56,
   "id": "ec2ff519",
   "metadata": {},
   "outputs": [],
   "source": [
    "result1 = result1 %>% add_row(method = c(\"boot_meth1\", \"boot_meth2\", \"boot_meth3\"), lower_bound = values[,1], \n",
    "                            mean_estimate = values[,2], \n",
    "                            upper_bound = values[,3])"
   ]
  },
  {
   "cell_type": "code",
   "execution_count": 57,
   "id": "38b0d3fe",
   "metadata": {},
   "outputs": [
    {
     "name": "stdout",
     "output_type": "stream",
     "text": [
      "      method lower_bound mean_estimate upper_bound\n",
      "1 boot_meth1   0.8220296     0.8670761   0.9208570\n",
      "2 boot_meth2   0.8132952     0.8670761   0.9121226\n",
      "3 boot_meth3   0.8174071     0.8670761   0.9167451\n"
     ]
    }
   ],
   "source": [
    "print(result1)"
   ]
  },
  {
   "cell_type": "code",
   "execution_count": 63,
   "id": "57dac3a8",
   "metadata": {},
   "outputs": [],
   "source": [
    "No_rest = df[repeal == 1,,]\n",
    "yes_rest = df[repeal == 0,,]"
   ]
  },
  {
   "cell_type": "code",
   "execution_count": 64,
   "id": "4b96ce41",
   "metadata": {},
   "outputs": [],
   "source": [
    "result2 = data.frame()\n",
    "result2 = result2 %>% add_column(method = character(0))\n",
    "result2 = result2 %>% add_column(lower_bound = numeric(0))\n",
    "result2 = result2 %>% add_column(mean_estimate = numeric(0))\n",
    "result2 = result2 %>% add_column(upper_bound = numeric(0))"
   ]
  },
  {
   "cell_type": "code",
   "execution_count": 65,
   "id": "872ec6b8",
   "metadata": {},
   "outputs": [],
   "source": [
    "values = boot_method(No_rest$acc, yes_rest$acc, No_rest$totpop, yes_rest$totpop, 100, 0.05)"
   ]
  },
  {
   "cell_type": "code",
   "execution_count": 66,
   "id": "ac445d1b",
   "metadata": {},
   "outputs": [],
   "source": [
    "result2 = result2 %>% add_row(method = c(\"boot_meth1\", \"boot_meth2\", \"boot_meth3\"), lower_bound = values[,1], \n",
    "                            mean_estimate = values[,2], \n",
    "                            upper_bound = values[,3])"
   ]
  },
  {
   "cell_type": "code",
   "execution_count": 67,
   "id": "7a0f7418",
   "metadata": {},
   "outputs": [
    {
     "name": "stdout",
     "output_type": "stream",
     "text": [
      "      method lower_bound mean_estimate upper_bound\n",
      "1 boot_meth1    1.540668       1.68349    1.881247\n",
      "2 boot_meth2    1.485733       1.68349    1.826312\n",
      "3 boot_meth3    1.523100       1.68349    1.843880\n"
     ]
    }
   ],
   "source": [
    "print(result2)"
   ]
  },
  {
   "cell_type": "code",
   "execution_count": null,
   "id": "c14d0a6f",
   "metadata": {},
   "outputs": [],
   "source": []
  }
 ],
 "metadata": {
  "kernelspec": {
   "display_name": "R",
   "language": "R",
   "name": "ir"
  },
  "language_info": {
   "codemirror_mode": "r",
   "file_extension": ".r",
   "mimetype": "text/x-r-source",
   "name": "R",
   "pygments_lexer": "r",
   "version": "4.1.1"
  }
 },
 "nbformat": 4,
 "nbformat_minor": 5
}
